{
 "cells": [
  {
   "cell_type": "markdown",
   "metadata": {},
   "source": [
    "Import Python Libraries"
   ]
  },
  {
   "cell_type": "code",
   "execution_count": 1,
   "metadata": {},
   "outputs": [],
   "source": [
    "import os\n",
    "import numpy as np\n",
    "import numpy.ma as ma\n",
    "import matplotlib as mpl\n",
    "import matplotlib.pyplot as plt\n",
    "import pandas as pd\n",
    "from IPython.display import Image, display\n",
    "import scipy.io as sio\n",
    "import xarray as xr\n",
    "import matplotlib.dates as mdates\n",
    "from eofs.xarray import Eof\n",
    "import cartopy.crs as ccrs\n",
    "import cartopy.feature as cfeature\n",
    "from cartopy.mpl.gridliner import LONGITUDE_FORMATTER, LATITUDE_FORMATTER\n",
    "import matplotlib.ticker as mticker"
   ]
  },
  {
   "cell_type": "markdown",
   "metadata": {},
   "source": [
    "1.\tRead the data and rearrange the longitudes so 180 is in the center of the grid."
   ]
  },
  {
   "cell_type": "code",
   "execution_count": 2,
   "metadata": {},
   "outputs": [
    {
     "data": {
      "text/plain": [
       "<xarray.Dataset>\n",
       "Dimensions:    (latitude: 180, longitude: 360, nv: 2, time: 1787)\n",
       "Coordinates:\n",
       "  * time       (time) datetime64[ns] 1870-01-16T11:59:59.505615234 ... 2018-11-16T12:00:00\n",
       "  * latitude   (latitude) float32 89.5 88.5 87.5 86.5 ... -87.5 -88.5 -89.5\n",
       "  * longitude  (longitude) float32 -179.5 -178.5 -177.5 ... 177.5 178.5 179.5\n",
       "Dimensions without coordinates: nv\n",
       "Data variables:\n",
       "    time_bnds  (time, nv) float32 ...\n",
       "    sst        (time, latitude, longitude) float32 ...\n",
       "Attributes:\n",
       "    Title:                      Monthly version of HadISST sea surface temper...\n",
       "    description:                HadISST 1.1 monthly average sea surface tempe...\n",
       "    institution:                Met Office Hadley Centre\n",
       "    source:                     HadISST\n",
       "    reference:                  Rayner, N. A., Parker, D. E., Horton, E. B., ...\n",
       "    Conventions:                CF-1.0\n",
       "    history:                    14/1/2019 converted to netcdf from pp format\n",
       "    supplementary_information:  Updates and supplementary information will be...\n",
       "    comment:                    Data restrictions: for academic research use ..."
      ]
     },
     "execution_count": 2,
     "metadata": {},
     "output_type": "execute_result"
    }
   ],
   "source": [
    "filename_pattern  = '/home/voyager-sbarc/arc/sst/hadisst/HadISST_sst.nc'\n",
    "ds = xr.open_dataset(filename_pattern)\n",
    "ds"
   ]
  },
  {
   "cell_type": "code",
   "execution_count": 3,
   "metadata": {},
   "outputs": [
    {
     "data": {
      "text/plain": [
       "<xarray.Dataset>\n",
       "Dimensions:    (latitude: 180, longitude: 360, nv: 2, time: 1787)\n",
       "Coordinates:\n",
       "  * time       (time) datetime64[ns] 1870-01-16T11:59:59.505615234 ... 2018-11-16T12:00:00\n",
       "  * latitude   (latitude) float32 89.5 88.5 87.5 86.5 ... -87.5 -88.5 -89.5\n",
       "  * longitude  (longitude) float32 0.5 1.5 2.5 3.5 4.5 ... -3.5 -2.5 -1.5 -0.5\n",
       "Dimensions without coordinates: nv\n",
       "Data variables:\n",
       "    time_bnds  (time, nv) float32 ...\n",
       "    sst        (time, latitude, longitude) float32 -1000.0 -1000.0 ... nan nan\n",
       "Attributes:\n",
       "    Title:                      Monthly version of HadISST sea surface temper...\n",
       "    description:                HadISST 1.1 monthly average sea surface tempe...\n",
       "    institution:                Met Office Hadley Centre\n",
       "    source:                     HadISST\n",
       "    reference:                  Rayner, N. A., Parker, D. E., Horton, E. B., ...\n",
       "    Conventions:                CF-1.0\n",
       "    history:                    14/1/2019 converted to netcdf from pp format\n",
       "    supplementary_information:  Updates and supplementary information will be...\n",
       "    comment:                    Data restrictions: for academic research use ..."
      ]
     },
     "execution_count": 3,
     "metadata": {},
     "output_type": "execute_result"
    }
   ],
   "source": [
    "ds_rolled = ds.roll(longitude=180, roll_coords=True)\n",
    "ds_rolled"
   ]
  },
  {
   "cell_type": "markdown",
   "metadata": {},
   "source": [
    "2.\tCrop the data to 30S-30N."
   ]
  },
  {
   "cell_type": "code",
   "execution_count": 4,
   "metadata": {},
   "outputs": [
    {
     "data": {
      "text/plain": [
       "<xarray.Dataset>\n",
       "Dimensions:    (latitude: 60, longitude: 360, nv: 2, time: 1787)\n",
       "Coordinates:\n",
       "  * time       (time) datetime64[ns] 1870-01-16T11:59:59.505615234 ... 2018-11-16T12:00:00\n",
       "  * latitude   (latitude) float32 29.5 28.5 27.5 26.5 ... -27.5 -28.5 -29.5\n",
       "  * longitude  (longitude) float32 -179.5 -178.5 -177.5 ... 177.5 178.5 179.5\n",
       "Dimensions without coordinates: nv\n",
       "Data variables:\n",
       "    time_bnds  (time, nv) float32 ...\n",
       "    sst        (time, latitude, longitude) float32 ...\n",
       "Attributes:\n",
       "    Title:                      Monthly version of HadISST sea surface temper...\n",
       "    description:                HadISST 1.1 monthly average sea surface tempe...\n",
       "    institution:                Met Office Hadley Centre\n",
       "    source:                     HadISST\n",
       "    reference:                  Rayner, N. A., Parker, D. E., Horton, E. B., ...\n",
       "    Conventions:                CF-1.0\n",
       "    history:                    14/1/2019 converted to netcdf from pp format\n",
       "    supplementary_information:  Updates and supplementary information will be...\n",
       "    comment:                    Data restrictions: for academic research use ..."
      ]
     },
     "execution_count": 4,
     "metadata": {},
     "output_type": "execute_result"
    }
   ],
   "source": [
    "ds_subset = ds.sel(latitude=slice(30,-30))\n",
    "ds_subset"
   ]
  },
  {
   "cell_type": "markdown",
   "metadata": {},
   "source": [
    "3.\tCompute the annual cycle of SST fitting the first and second harmonics."
   ]
  },
  {
   "cell_type": "code",
   "execution_count": 5,
   "metadata": {},
   "outputs": [
    {
     "name": "stderr",
     "output_type": "stream",
     "text": [
      "/home/nash/anaconda3/lib/python3.7/site-packages/xarray/core/nanops.py:161: RuntimeWarning: Mean of empty slice\n",
      "  return np.nanmean(a, axis=axis, dtype=dtype)\n"
     ]
    },
    {
     "data": {
      "text/plain": [
       "<xarray.Dataset>\n",
       "Dimensions:    (latitude: 60, longitude: 360, month: 12, nv: 2)\n",
       "Coordinates:\n",
       "  * latitude   (latitude) float32 29.5 28.5 27.5 26.5 ... -27.5 -28.5 -29.5\n",
       "  * longitude  (longitude) float32 -179.5 -178.5 -177.5 ... 177.5 178.5 179.5\n",
       "  * month      (month) int64 1 2 3 4 5 6 7 8 9 10 11 12\n",
       "Dimensions without coordinates: nv\n",
       "Data variables:\n",
       "    time_bnds  (month, nv) float32 27027.584 27058.584 ... 27179.203 27210.203\n",
       "    sst        (month, latitude, longitude) float32 19.316332 ... 21.992668"
      ]
     },
     "execution_count": 5,
     "metadata": {},
     "output_type": "execute_result"
    }
   ],
   "source": [
    "climatology = ds_subset.groupby('time.month').mean('time')\n",
    "climatology"
   ]
  },
  {
   "cell_type": "markdown",
   "metadata": {},
   "source": [
    "Create 1st two harmonics and add together"
   ]
  },
  {
   "cell_type": "code",
   "execution_count": 6,
   "metadata": {},
   "outputs": [],
   "source": [
    "def fourier(ds,p):\n",
    "    time = ds.month\n",
    "    n = len(time) \n",
    " \n",
    "    ds,time = xr.broadcast(ds,time)\n",
    "\n",
    "    f = 2.*np.pi*p/n\n",
    "    ft = f*time\n",
    "\n",
    "    sum_a = ds*np.cos(ft - 1.)\n",
    "    sum_b = ds*np.sin(ft - 1.)\n",
    "    coef_a = (2./n)*sum_a.sum('month',skipna=True)\n",
    "    coef_b = (2./n)*sum_b.sum('month',skipna=True)\n",
    "\n",
    "    return ft,coef_a, coef_b\n",
    "\n",
    "def harmonic(ds):\n",
    "    a0 = ds.mean('month',skipna=True)\n",
    "\n",
    "    #-First Harmonic\n",
    "    p     = 1\n",
    "    ft,coef_a,coef_b = fourier(ds,p)\n",
    "    harm1 = a0 + coef_a*np.cos(ft-1.) + coef_b*np.sin(ft-1.)\n",
    "\n",
    "    #-Second Harmonic\n",
    "    p     = 2\n",
    "    ft,coef_a,coef_b = fourier(ds,p)\n",
    "    harm2 = a0 + coef_a*np.cos(ft-1.) + coef_b*np.sin(ft-1.)\n",
    "\n",
    "    #-First plus second\n",
    "    combo = harm1 + coef_a*np.cos(ft-1.) + coef_b*np.sin(ft-1.)\n",
    "\n",
    "    return combo"
   ]
  },
  {
   "cell_type": "code",
   "execution_count": 7,
   "metadata": {},
   "outputs": [
    {
     "data": {
      "text/plain": [
       "<xarray.Dataset>\n",
       "Dimensions:    (latitude: 60, longitude: 360, month: 12, nv: 2)\n",
       "Coordinates:\n",
       "  * latitude   (latitude) float32 29.5 28.5 27.5 26.5 ... -27.5 -28.5 -29.5\n",
       "  * longitude  (longitude) float32 -179.5 -178.5 -177.5 ... 177.5 178.5 179.5\n",
       "  * month      (month) int64 1 2 3 4 5 6 7 8 9 10 11 12\n",
       "Dimensions without coordinates: nv\n",
       "Data variables:\n",
       "    time_bnds  (nv, latitude, longitude, month) float64 2.708e+04 ... 2.721e+04\n",
       "    sst        (latitude, longitude, nv, month) float64 19.37 18.39 ... 21.99"
      ]
     },
     "execution_count": 7,
     "metadata": {},
     "output_type": "execute_result"
    }
   ],
   "source": [
    "annual_cycle = harmonic(climatology)\n",
    "annual_cycle"
   ]
  },
  {
   "cell_type": "markdown",
   "metadata": {},
   "source": [
    "4.\tRemove the annual cycle from the monthly SST in each gridpoint"
   ]
  },
  {
   "cell_type": "code",
   "execution_count": 8,
   "metadata": {},
   "outputs": [
    {
     "data": {
      "text/plain": [
       "(1787, 60, 360, 2)"
      ]
     },
     "execution_count": 8,
     "metadata": {},
     "output_type": "execute_result"
    }
   ],
   "source": [
    "anomalies = ds_subset.groupby('time.month') - annual_cycle\n",
    "anomalies.sst.shape"
   ]
  },
  {
   "cell_type": "markdown",
   "metadata": {},
   "source": [
    "5.\tRemove the long-term mean in each gridpoint - already done via harmonics"
   ]
  },
  {
   "cell_type": "code",
   "execution_count": 9,
   "metadata": {},
   "outputs": [
    {
     "name": "stderr",
     "output_type": "stream",
     "text": [
      "/home/nash/anaconda3/lib/python3.7/site-packages/xarray/core/nanops.py:161: RuntimeWarning: Mean of empty slice\n",
      "  return np.nanmean(a, axis=axis, dtype=dtype)\n"
     ]
    },
    {
     "name": "stdout",
     "output_type": "stream",
     "text": [
      "(60, 360)\n"
     ]
    }
   ],
   "source": [
    "long_term_mean = anomalies.sst[:,:,:,0].mean('time', skipna=True)\n",
    "print(long_term_mean.shape)\n",
    "\n",
    "sst = anomalies.sst[:,:,:,0] - long_term_mean"
   ]
  },
  {
   "cell_type": "markdown",
   "metadata": {},
   "source": [
    "6.\tWeight the SST anomaly value in each gridpoint by the square of the cosine of the latitude"
   ]
  },
  {
   "cell_type": "code",
   "execution_count": 21,
   "metadata": {},
   "outputs": [
    {
     "name": "stdout",
     "output_type": "stream",
     "text": [
      "(1787, 60, 360)\n",
      "<xarray.DataArray (time: 1787, latitude: 60, longitude: 360)>\n",
      "array([[[0.932929, 0.932929, ..., 0.932929, 0.932929],\n",
      "        [0.937452, 0.937452, ..., 0.937452, 0.937452],\n",
      "        ...,\n",
      "        [0.937452, 0.937452, ..., 0.937452, 0.937452],\n",
      "        [0.932929, 0.932929, ..., 0.932929, 0.932929]],\n",
      "\n",
      "       [[0.932929, 0.932929, ..., 0.932929, 0.932929],\n",
      "        [0.937452, 0.937452, ..., 0.937452, 0.937452],\n",
      "        ...,\n",
      "        [0.937452, 0.937452, ..., 0.937452, 0.937452],\n",
      "        [0.932929, 0.932929, ..., 0.932929, 0.932929]],\n",
      "\n",
      "       ...,\n",
      "\n",
      "       [[0.932929, 0.932929, ..., 0.932929, 0.932929],\n",
      "        [0.937452, 0.937452, ..., 0.937452, 0.937452],\n",
      "        ...,\n",
      "        [0.937452, 0.937452, ..., 0.937452, 0.937452],\n",
      "        [0.932929, 0.932929, ..., 0.932929, 0.932929]],\n",
      "\n",
      "       [[0.932929, 0.932929, ..., 0.932929, 0.932929],\n",
      "        [0.937452, 0.937452, ..., 0.937452, 0.937452],\n",
      "        ...,\n",
      "        [0.937452, 0.937452, ..., 0.937452, 0.937452],\n",
      "        [0.932929, 0.932929, ..., 0.932929, 0.932929]]], dtype=float32)\n",
      "Coordinates:\n",
      "  * latitude   (latitude) float32 29.5 28.5 27.5 26.5 ... -27.5 -28.5 -29.5\n",
      "  * time       (time) datetime64[ns] 1870-01-16T11:59:59.505615234 ... 2018-11-16T12:00:00\n",
      "  * longitude  (longitude) float32 -179.5 -178.5 -177.5 ... 177.5 178.5 179.5\n"
     ]
    }
   ],
   "source": [
    "# Weight the data set according to weighting argument.\n",
    "coslat = np.cos(np.deg2rad(sst.coords['latitude'].values))\n",
    "wgts = np.sqrt(coslat)\n",
    "wgts = xr.DataArray(wgts, coords=[sst.latitude], dims=['latitude'])\n",
    "sst,weights = xr.broadcast(sst,wgts)\n",
    "weighted_data = sst * weights\n",
    "print(weighted_data.shape)\n",
    "print(weights)"
   ]
  },
  {
   "cell_type": "markdown",
   "metadata": {},
   "source": [
    "7.\tPlot the standard deviation of the SST anomalies"
   ]
  },
  {
   "cell_type": "code",
   "execution_count": 11,
   "metadata": {},
   "outputs": [],
   "source": [
    "std_dev = np.std(weighted_data, axis=0)\n",
    "std_rolled = std_dev.roll(longitude=180, roll_coords=True)"
   ]
  },
  {
   "cell_type": "code",
   "execution_count": 12,
   "metadata": {
    "scrolled": true
   },
   "outputs": [
    {
     "data": {
      "image/png": "[encoded data removed]",
      "text/plain": [
       "<Figure size 1152x288 with 2 Axes>"
      ]
     },
     "metadata": {
      "needs_background": "light"
     },
     "output_type": "display_data"
    }
   ],
   "source": [
    "plt.figure(figsize=[16., 4.])\n",
    "ax = plt.axes(projection=ccrs.PlateCarree(central_longitude=-179.5))\n",
    "ax.set_extent([sst.longitude.min(), sst.longitude.max(), sst.latitude.min(), sst.latitude.max()], crs=ccrs.PlateCarree(central_longitude=-179.5))\n",
    "cf = plt.contourf(sst.longitude, sst.latitude, std_dev, transform=ccrs.PlateCarree())\n",
    "plt.title('Standard Deviation of SST Anomalies')\n",
    "plt.colorbar(cf, orientation='horizontal')\n",
    "ax.coastlines()\n",
    "plt.show()"
   ]
  },
  {
   "cell_type": "markdown",
   "metadata": {},
   "source": [
    "8a.\tThe SST data consist of 1787 points in time by 21600 points in space."
   ]
  },
  {
   "cell_type": "code",
   "execution_count": 13,
   "metadata": {},
   "outputs": [
    {
     "data": {
      "text/plain": [
       "(1787, 21600)"
      ]
     },
     "execution_count": 13,
     "metadata": {},
     "output_type": "execute_result"
    }
   ],
   "source": [
    "[numtimes, numlats, numlons] = weighted_data.shape\n",
    "\n",
    "## flatten lat and lon into 1 spatial location identifier\n",
    "X = np.reshape(weighted_data.values, [numtimes, numlons*numlats])\n",
    "X.shape"
   ]
  },
  {
   "cell_type": "code",
   "execution_count": 14,
   "metadata": {},
   "outputs": [
    {
     "name": "stdout",
     "output_type": "stream",
     "text": [
      "(1787, 16378)\n"
     ]
    }
   ],
   "source": [
    "# Find the indices of values that are not missing in one row. All the\n",
    "# rows will have missing values in the same places provided the\n",
    "# array was centered. If it wasn't then it is possible that some\n",
    "# missing values will be missed and the singular value decomposition\n",
    "# will produce not a number for everything.\n",
    "nonMissingIndex = np.where(np.logical_not(np.isnan(X[0])))[0]\n",
    "# Remove missing values from the design matrix.\n",
    "dataNoMissing = X[:, nonMissingIndex]\n",
    "print(dataNoMissing.shape)"
   ]
  },
  {
   "cell_type": "markdown",
   "metadata": {},
   "source": [
    "8b.\tCompute the covariance matrix of SST anomalies using the time dimension"
   ]
  },
  {
   "cell_type": "code",
   "execution_count": 17,
   "metadata": {},
   "outputs": [
    {
     "data": {
      "text/plain": [
       "(1787, 1787)"
      ]
     },
     "execution_count": 17,
     "metadata": {},
     "output_type": "execute_result"
    }
   ],
   "source": [
    "## Compute Covariance Matrix\n",
    "numtimes, numnonMissing = dataNoMissing.shape\n",
    "A = np.dot(dataNoMissing,np.transpose(dataNoMissing))/numnonMissing\n",
    "A.shape"
   ]
  },
  {
   "cell_type": "code",
   "execution_count": 18,
   "metadata": {},
   "outputs": [
    {
     "data": {
      "text/plain": [
       "Text(0.5, 1.0, 'Covariance Matrix')"
      ]
     },
     "execution_count": 18,
     "metadata": {},
     "output_type": "execute_result"
    },
    {
     "data": {
      "image/png": "[encoded data removed]",
      "text/plain": [
       "<Figure size 432x288 with 2 Axes>"
      ]
     },
     "metadata": {
      "needs_background": "light"
     },
     "output_type": "display_data"
    }
   ],
   "source": [
    "plt.contourf(A)\n",
    "plt.colorbar()\n",
    "plt.title('Covariance Matrix')"
   ]
  },
  {
   "cell_type": "code",
   "execution_count": 20,
   "metadata": {},
   "outputs": [
    {
     "name": "stdout",
     "output_type": "stream",
     "text": [
      "(1787, 1787)\n",
      "(1787,)\n",
      "(1787, 1787)\n"
     ]
    }
   ],
   "source": [
    "A, Lh, E = np.linalg.svd(A)\n",
    "print(A.shape)\n",
    "print(Lh.shape)\n",
    "print(E.shape)"
   ]
  },
  {
   "cell_type": "code",
   "execution_count": null,
   "metadata": {},
   "outputs": [],
   "source": []
  }
 ],
 "metadata": {
  "kernelspec": {
   "display_name": "Python 3",
   "language": "python",
   "name": "python3"
  },
  "language_info": {
   "codemirror_mode": {
    "name": "ipython",
    "version": 3
   },
   "file_extension": ".py",
   "mimetype": "text/x-python",
   "name": "python",
   "nbconvert_exporter": "python",
   "pygments_lexer": "ipython3",
   "version": "3.7.1"
  }
 },
 "nbformat": 4,
 "nbformat_minor": 2
}
