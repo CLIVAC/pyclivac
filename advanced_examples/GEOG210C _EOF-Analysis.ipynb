{
 "cells": [
  {
   "cell_type": "code",
   "execution_count": 38,
   "metadata": {},
   "outputs": [],
   "source": [
    "from scipy.io import loadmat\n",
    "import numpy as np\n",
    "import matplotlib.pyplot as plt\n",
    "from cartopy.mpl.gridliner import LONGITUDE_FORMATTER, LATITUDE_FORMATTER\n",
    "import matplotlib.ticker as mticker\n",
    "\n",
    "import cartopy.crs as ccrs\n",
    "import cartopy.feature as cfeature\n",
    "import xarray as xr\n",
    "\n",
    "from eofs.xarray import Eof\n",
    "from eofs.examples import example_data_path"
   ]
  },
  {
   "cell_type": "code",
   "execution_count": 2,
   "metadata": {},
   "outputs": [],
   "source": [
    "file = loadmat('/home/sbarc/students/nash/data/var.mat')\n",
    "lon = file['lon1']\n",
    "lat = file['lat1']\n",
    "var = file['var']"
   ]
  },
  {
   "cell_type": "code",
   "execution_count": 3,
   "metadata": {},
   "outputs": [
    {
     "name": "stdout",
     "output_type": "stream",
     "text": [
      "[20]\n"
     ]
    }
   ],
   "source": [
    "## Subset spatial region\n",
    "latidx1 = np.where(lat == 30)\n",
    "latidx2 = np.where(lat == -30)\n",
    "lonidx1 = np.where(lon == 0)\n",
    "lonidx2 = np.where(lon == 357)\n",
    "\n",
    "latidx1 = latidx1[0]\n",
    "latidx2 = latidx2[0]\n",
    "lonidx1 = lonidx1[0]\n",
    "lonidx2 = lonidx2[0]\n",
    "print(latidx1)"
   ]
  },
  {
   "cell_type": "code",
   "execution_count": 4,
   "metadata": {},
   "outputs": [
    {
     "data": {
      "text/plain": [
       "(119, 20, 456)"
      ]
     },
     "execution_count": 4,
     "metadata": {},
     "output_type": "execute_result"
    }
   ],
   "source": [
    "lat2 = lat[20:40,0]\n",
    "lon2 = lon[0:119,0]\n",
    "x = var[0:119, 20:40, :]\n",
    "[numlons, numlats, numtimes] = x.shape\n",
    "x.shape\n",
    "x.shape"
   ]
  },
  {
   "cell_type": "code",
   "execution_count": 5,
   "metadata": {},
   "outputs": [],
   "source": [
    "## flatten lat and lon into 1 spatial location identifier\n",
    "X = np.reshape(x, [numlons*numlats, numtimes])\n",
    "X.shape\n",
    "\n",
    "X_var = np.reshape(var, [120*61, numtimes])"
   ]
  },
  {
   "cell_type": "code",
   "execution_count": 6,
   "metadata": {},
   "outputs": [
    {
     "data": {
      "text/plain": [
       "(456, 2380)"
      ]
     },
     "execution_count": 6,
     "metadata": {},
     "output_type": "execute_result"
    }
   ],
   "source": [
    "X_t = np.transpose(X)\n",
    "X_t.shape"
   ]
  },
  {
   "cell_type": "code",
   "execution_count": 7,
   "metadata": {},
   "outputs": [
    {
     "data": {
      "text/plain": [
       "(2380, 2380)"
      ]
     },
     "execution_count": 7,
     "metadata": {},
     "output_type": "execute_result"
    }
   ],
   "source": [
    "## Compute Covariance Matrix\n",
    "A = np.matmul(X,X_t)\n",
    "A.shape"
   ]
  },
  {
   "cell_type": "code",
   "execution_count": 8,
   "metadata": {},
   "outputs": [
    {
     "name": "stdout",
     "output_type": "stream",
     "text": [
      "(2380,)\n",
      "(2380, 2380)\n"
     ]
    }
   ],
   "source": [
    "## Compute the eigenvalues\n",
    "d, v = np.linalg.eig(A)\n",
    "print(d.shape)\n",
    "print(v.shape)"
   ]
  },
  {
   "cell_type": "code",
   "execution_count": 9,
   "metadata": {},
   "outputs": [],
   "source": [
    "# eigval = np.diag(d)\n",
    "# eigval.shape\n",
    "# print(eigval)\n",
    "# v = np.fliplr(v)\n",
    "# print(v.shape)"
   ]
  },
  {
   "cell_type": "code",
   "execution_count": 10,
   "metadata": {},
   "outputs": [
    {
     "name": "stdout",
     "output_type": "stream",
     "text": [
      "(119, 20)\n"
     ]
    }
   ],
   "source": [
    "mode1_orig = v[:,0]\n",
    "mode1 = np.reshape(mode1_orig, [numlons, numlats])\n",
    "print(mode1.shape)"
   ]
  },
  {
   "cell_type": "code",
   "execution_count": 11,
   "metadata": {},
   "outputs": [
    {
     "data": {
      "text/plain": [
       "(20, 119)"
      ]
     },
     "execution_count": 11,
     "metadata": {},
     "output_type": "execute_result"
    }
   ],
   "source": [
    "mode1_t = np.transpose(mode1)\n",
    "mode1_t.shape"
   ]
  },
  {
   "cell_type": "code",
   "execution_count": 12,
   "metadata": {},
   "outputs": [
    {
     "name": "stderr",
     "output_type": "stream",
     "text": [
      "/home/nash/anaconda3/lib/python3.7/site-packages/numpy/ma/core.py:2788: ComplexWarning: Casting complex values to real discards the imaginary part\n",
      "  order=order, subok=True, ndmin=ndmin)\n"
     ]
    },
    {
     "data": {
      "text/plain": [
       "<matplotlib.contour.QuadContourSet at 0x2ba477f4dba8>"
      ]
     },
     "execution_count": 12,
     "metadata": {},
     "output_type": "execute_result"
    },
    {
     "data": {
      "image/png": "[encoded data removed]",
      "text/plain": [
       "<Figure size 432x288 with 1 Axes>"
      ]
     },
     "metadata": {
      "needs_background": "light"
     },
     "output_type": "display_data"
    }
   ],
   "source": [
    "plt.contourf(mode1)"
   ]
  },
  {
   "cell_type": "code",
   "execution_count": 13,
   "metadata": {},
   "outputs": [
    {
     "data": {
      "image/png": "[encoded data removed]",
      "text/plain": [
       "<Figure size 432x288 with 2 Axes>"
      ]
     },
     "metadata": {
      "needs_background": "light"
     },
     "output_type": "display_data"
    }
   ],
   "source": [
    "ax = plt.axes(projection=ccrs.PlateCarree())\n",
    "ax.set_extent([lon2.min(), lon2.max(), lat2.min(), lat2.max()], crs=ccrs.PlateCarree())\n",
    "cf = plt.contourf(lon2, lat2, mode1_t)\n",
    "plt.colorbar(cf)\n",
    "ax.coastlines()\n",
    "plt.show()"
   ]
  },
  {
   "cell_type": "code",
   "execution_count": 27,
   "metadata": {},
   "outputs": [
    {
     "name": "stdout",
     "output_type": "stream",
     "text": [
      "(456,)\n"
     ]
    }
   ],
   "source": [
    "from datetime import datetime, timedelta\n",
    "from dateutil.relativedelta import relativedelta\n",
    "\n",
    "## create array of times - daily between Jan 1, 1979 and Dec 31, 2017\n",
    "def date_range(start_date, end_date, increment, period):\n",
    "    result = []\n",
    "    nxt = start_date\n",
    "    delta = relativedelta(**{period:increment})\n",
    "    while nxt <= end_date:\n",
    "        result.append(nxt)\n",
    "        nxt += delta\n",
    "    return result\n",
    "\n",
    "start = str('1979-01-15')\n",
    "end = str('2016-12-15')\n",
    "start_date = datetime.strptime(start, '%Y-%m-%d')\n",
    "end_date = datetime.strptime(end, '%Y-%m-%d')\n",
    "times_list = date_range(start_date, end_date, 1, 'months')\n",
    "times = np.array(times_list)\n",
    "print(times.shape)"
   ]
  },
  {
   "cell_type": "code",
   "execution_count": 41,
   "metadata": {},
   "outputs": [
    {
     "data": {
      "text/plain": [
       "(456, 61, 120)"
      ]
     },
     "execution_count": 41,
     "metadata": {},
     "output_type": "execute_result"
    }
   ],
   "source": [
    "var_t = np.transpose(var)\n",
    "var_t.shape"
   ]
  },
  {
   "cell_type": "code",
   "execution_count": 45,
   "metadata": {},
   "outputs": [
    {
     "data": {
      "text/plain": [
       "<xarray.DataArray 'lat' (lat: 61)>\n",
       "array([ 90.,  87.,  84.,  81.,  78.,  75.,  72.,  69.,  66.,  63.,  60.,  57.,\n",
       "        54.,  51.,  48.,  45.,  42.,  39.,  36.,  33.,  30.,  27.,  24.,  21.,\n",
       "        18.,  15.,  12.,   9.,   6.,   3.,   0.,  -3.,  -6.,  -9., -12., -15.,\n",
       "       -18., -21., -24., -27., -30., -33., -36., -39., -42., -45., -48., -51.,\n",
       "       -54., -57., -60., -63., -66., -69., -72., -75., -78., -81., -84., -87.,\n",
       "       -90.], dtype=float32)\n",
       "Coordinates:\n",
       "  * lat      (lat) float32 90.0 87.0 84.0 81.0 78.0 ... -81.0 -84.0 -87.0 -90.0"
      ]
     },
     "execution_count": 45,
     "metadata": {},
     "output_type": "execute_result"
    }
   ],
   "source": [
    "sst.lat"
   ]
  },
  {
   "cell_type": "code",
   "execution_count": 46,
   "metadata": {},
   "outputs": [],
   "source": [
    "## load dataset into xarray\n",
    "## Read all data into single xarray dataset \n",
    "## this makes it easier to index bounds and do climatology stuff\n",
    "ds = xr.Dataset({'sst': (['time', 'lat', 'lon'], var_t)},\n",
    "                coords={'time': times,\n",
    "                        'lat': (['lat'], lat[:,0]),\n",
    "                        'lon': (['lon'], lon[:,0])})\n",
    "sst = ds.sst.sel(lat=slice(30, -30))"
   ]
  },
  {
   "cell_type": "code",
   "execution_count": 47,
   "metadata": {},
   "outputs": [
    {
     "data": {
      "text/plain": [
       "<eofs.xarray.Eof at 0x2ba54da7c828>"
      ]
     },
     "execution_count": 47,
     "metadata": {},
     "output_type": "execute_result"
    }
   ],
   "source": [
    "# Create an EOF solver to do the EOF analysis. Square-root of cosine of\n",
    "# latitude weights are applied before the computation of EOFs.\n",
    "coslat = np.cos(np.deg2rad(sst.coords['lat'].values))\n",
    "wgts = np.sqrt(coslat)[..., np.newaxis]\n",
    "solver = Eof(sst, weights=wgts)\n",
    "\n",
    "solver"
   ]
  },
  {
   "cell_type": "code",
   "execution_count": 51,
   "metadata": {},
   "outputs": [
    {
     "data": {
      "text/plain": [
       "(1, 21, 120)"
      ]
     },
     "execution_count": 51,
     "metadata": {},
     "output_type": "execute_result"
    }
   ],
   "source": [
    "# Retrieve the leading EOF, expressed as the correlation between the leading\n",
    "# PC time series and the input SST anomalies at each grid point, and the\n",
    "# leading PC time series itself.\n",
    "eof1 = solver.eofs(neofs=1)\n",
    "pc1 = solver.pcs(npcs=1, pcscaling=1)\n",
    "\n",
    "eof1.shape"
   ]
  },
  {
   "cell_type": "code",
   "execution_count": 53,
   "metadata": {},
   "outputs": [
    {
     "data": {
      "image/png": "[encoded data removed]",
      "text/plain": [
       "<Figure size 432x288 with 2 Axes>"
      ]
     },
     "metadata": {
      "needs_background": "light"
     },
     "output_type": "display_data"
    }
   ],
   "source": [
    "ax = plt.axes(projection=ccrs.PlateCarree())\n",
    "ax.set_extent([sst.lon.min(), sst.lon.max(), sst.lat.min(), sst.lat.max()], crs=ccrs.PlateCarree())\n",
    "cf = plt.contourf(sst.lon, sst.lat, eof1[0,:,:]*-1)\n",
    "plt.colorbar(cf)\n",
    "ax.coastlines()\n",
    "plt.show()"
   ]
  },
  {
   "cell_type": "code",
   "execution_count": null,
   "metadata": {},
   "outputs": [],
   "source": []
  }
 ],
 "metadata": {
  "kernelspec": {
   "display_name": "Python 3",
   "language": "python",
   "name": "python3"
  },
  "language_info": {
   "codemirror_mode": {
    "name": "ipython",
    "version": 3
   },
   "file_extension": ".py",
   "mimetype": "text/x-python",
   "name": "python",
   "nbconvert_exporter": "python",
   "pygments_lexer": "ipython3",
   "version": "3.7.1"
  }
 },
 "nbformat": 4,
 "nbformat_minor": 2
}
