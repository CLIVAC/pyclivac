{
 "cells": [
  {
   "cell_type": "markdown",
   "metadata": {},
   "source": [
    "### Import Libraries"
   ]
  },
  {
   "cell_type": "code",
   "execution_count": null,
   "metadata": {},
   "outputs": [],
   "source": [
    "import numpy as np\n",
    "import xarray as xr\n",
    "from datetime import datetime, timedelta\n",
    "import pandas as pd\n",
    "\n",
    "import matplotlib.pyplot as plt\n",
    "import matplotlib.dates as mdates\n",
    "import matplotlib.ticker as mticker\n",
    "import cartopy.crs as ccrs\n",
    "from cartopy.mpl.gridliner import LONGITUDE_FORMATTER, LATITUDE_FORMATTER\n",
    "from mpl_toolkits.axes_grid1 import AxesGrid\n",
    "from IPython.display import Image, display"
   ]
  },
  {
   "cell_type": "markdown",
   "metadata": {},
   "source": [
    "### Load netcdf into xarray dataset object. "
   ]
  },
  {
   "cell_type": "code",
   "execution_count": null,
   "metadata": {},
   "outputs": [],
   "source": [
    "# filename with location\n",
    "filename = '../sample-data/erai.mon.t2m.2000-2005.nc'\n",
    "\n",
    "ds = xr.open_dataset(filename)\n",
    "print('ds size in GB {:0.2f}\\n'.format(ds.nbytes / 1e9))\n",
    "ds.info()"
   ]
  },
  {
   "cell_type": "markdown",
   "metadata": {},
   "source": [
    "ds.info() tells us about our dataset. It has 241 latitude points (90 to -90; 0.25 degree resolution), 480 longitude points (0-360; 0.25 degree resolution), 72 time points (monthly from Jan 2000 to December 2005), and it has a variable 't2m' which is 2 metre temperature. "
   ]
  },
  {
   "cell_type": "markdown",
   "metadata": {},
   "source": [
    "### Convert temperature to Celsius"
   ]
  },
  {
   "cell_type": "code",
   "execution_count": null,
   "metadata": {},
   "outputs": [],
   "source": [
    "ds['t2m'] = ds.t2m - 273.15\n",
    "ds['t2m'] = ds.t2m.assign_attrs(units='C')\n",
    "ds"
   ]
  },
  {
   "cell_type": "markdown",
   "metadata": {},
   "source": [
    "### Subset dataset to the US"
   ]
  },
  {
   "cell_type": "code",
   "execution_count": null,
   "metadata": {},
   "outputs": [],
   "source": [
    "subset_ds = ds.sel(latitude=slice(55,10), longitude=slice(360-135,360-60))\n",
    "subset_ds"
   ]
  },
  {
   "cell_type": "markdown",
   "metadata": {},
   "source": [
    "### Plot first timestep using xarray plotting function and an orthographic projection."
   ]
  },
  {
   "cell_type": "code",
   "execution_count": null,
   "metadata": {},
   "outputs": [],
   "source": [
    "ax = plt.axes(projection=ccrs.Orthographic(-80, 35))\n",
    "\n",
    "subset_ds.t2m.isel(time=0).plot.contourf(ax=ax, transform=ccrs.PlateCarree())\n",
    "ax.set_global()\n",
    "ax.coastlines()"
   ]
  },
  {
   "cell_type": "markdown",
   "metadata": {},
   "source": [
    "### Plot the first 9 time steps in a panel plot with a single colorbar using xarray's plot function."
   ]
  },
  {
   "cell_type": "code",
   "execution_count": null,
   "metadata": {},
   "outputs": [],
   "source": [
    "g_simple = subset_ds.t2m[:9].plot(x='longitude', y='latitude', col='time', col_wrap=3)"
   ]
  },
  {
   "cell_type": "markdown",
   "metadata": {},
   "source": [
    "### Plot the first 9 time steps in a panel plot with a single colorbar using cartopy and save the figure."
   ]
  },
  {
   "cell_type": "code",
   "execution_count": null,
   "metadata": {},
   "outputs": [],
   "source": [
    "fig = plt.figure()\n",
    "fig.dpi = 600\n",
    "fname = 't2m_panel_plot'\n",
    "fmt = 'png'\n",
    "results = subset_ds.t2m[:9]\n",
    "lats = subset_ds['latitude']\n",
    "lons = subset_ds['longitude']\n",
    "\n",
    "## currently this only works if you set the clevs manually\n",
    "clevs = np.arange(-32,36,4)\n",
    "\n",
    "for i in np.arange(len(results)):\n",
    "    ax = plt.subplot(3, 3, i+1, projection=ccrs.PlateCarree())\n",
    "    ax.set_extent([lons.min(), lons.max(), lats.min(), lats.max()], crs=ccrs.PlateCarree())\n",
    "    cf = ax.contourf(lons, lats, results[i], transform=ccrs.PlateCarree(),\n",
    "                     extend='neither', cmap='bwr', levels=clevs)\n",
    "    \n",
    "    ax.coastlines(linewidths=1.0)\n",
    "    ax.set_title(pd.Timestamp(subset_ds.time[i].values), fontsize=10)\n",
    "\n",
    "    ## Add in meridian and parallels\n",
    "    gl = ax.gridlines(crs=ccrs.PlateCarree(), draw_labels=True,\n",
    "                  linewidth=.5, color='black', alpha=0.5, linestyle='--')\n",
    "    gl.xlabels_top = False\n",
    "    gl.ylabels_right = False\n",
    "    gl.xlocator = mticker.FixedLocator(np.flip(np.arange(360-lons.max()-20, 360-lons.min()+20, 20)*-1))\n",
    "    gl.ylocator = mticker.FixedLocator(np.arange(lats.min(), lats.max()+10, 10))\n",
    "    gl.xformatter = LONGITUDE_FORMATTER\n",
    "    gl.yformatter = LATITUDE_FORMATTER\n",
    "    gl.xlabel_style = {'size': 7}\n",
    "    gl.ylabel_style = {'size': 7}\n",
    "\n",
    "# # add colorbar [left, bottom, width, height]\n",
    "ax2 = fig.add_axes([1.0, 0.13, 0.03, 0.75])\n",
    "cbar = fig.colorbar(cf, cax=ax2, drawedges=True, \n",
    "                    orientation='vertical', extendfrac='auto')\n",
    "cbar.ax.tick_params(labelsize=8)\n",
    "cbar.set_label(results.units, fontsize=8)\n",
    "\n",
    "plt.subplots_adjust(hspace=0.5, wspace=0.3)\n",
    "\n",
    "fig.savefig('%s.%s' %(fname, fmt), bbox_inches='tight', dpi=fig.dpi)\n",
    "fig.clf()\n",
    "\n",
    "\n",
    "plotFile = fname + '.png'\n",
    "print(plotFile)\n",
    "display(Image(plotFile))"
   ]
  },
  {
   "cell_type": "code",
   "execution_count": null,
   "metadata": {},
   "outputs": [],
   "source": []
  }
 ],
 "metadata": {
  "kernelspec": {
   "display_name": "Python 3",
   "language": "python",
   "name": "python3"
  },
  "language_info": {
   "codemirror_mode": {
    "name": "ipython",
    "version": 3
   },
   "file_extension": ".py",
   "mimetype": "text/x-python",
   "name": "python",
   "nbconvert_exporter": "python",
   "pygments_lexer": "ipython3",
   "version": "3.5.6"
  }
 },
 "nbformat": 4,
 "nbformat_minor": 2
}
