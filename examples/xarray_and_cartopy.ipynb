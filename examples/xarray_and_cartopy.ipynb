{
 "cells": [
  {
   "cell_type": "markdown",
   "metadata": {},
   "source": [
    "### Importing and mapping netCDF data with xarray and cartopy\n",
    "\n",
    "- Read data from a netCDF file with xarray\n",
    "- Select (index) and modify variables using xarray\n",
    "- Set up map features with cartopy (lat/lon tickmarks, continents, country/state borders, etc.)\n",
    "- Overlay various plot types: contour lines, filled contours, vectors, and barbs\n",
    "- Customize plot elements such as the colorbar and titles\n",
    "- Save figure\n",
    "    "
   ]
  },
  {
   "cell_type": "code",
   "execution_count": null,
   "metadata": {},
   "outputs": [],
   "source": [
    "## Imports\n",
    "\n",
    "import os, sys\n",
    "import numpy as np\n",
    "import xarray as xr\n",
    "import matplotlib.pyplot as plt\n",
    "import cartopy.crs as ccrs\n",
    "from cartopy.mpl.geoaxes import GeoAxes\n",
    "import cartopy.feature as cfeature\n",
    "from cartopy.mpl.ticker import LongitudeFormatter, LatitudeFormatter\n"
   ]
  },
  {
   "cell_type": "markdown",
   "metadata": {},
   "source": [
    "### Load netcdf data with Xarray\n",
    "\n",
    "In this example, we show how to import and map ERA5 reanalysis data for an AR-Thunderstorm event that occurred in Santa Barbara County on 6 March 2019. We will use the `era5.AR-LTG.6hr.nc` sample data file, which contains 6-hourly ERA5 Reanalysis on a 0.5 x 0.5 deg lat-lon grid during 4-8 March (5 days). ERA5 data was retrieved from the Climate Data Store and subset to a regional domain over the Western US/N. Pacific. \n",
    "\n",
    "The xarray package provides an easy interface for importing and analyzing multidimensional data. Because xarray was designed around the netCDF data model, it is an especially useful tool for working with weather and climate data.\n",
    "\n",
    "\n",
    "Xarray has two fundamental **data structures**:  \n",
    "\n",
    "**1.** a **`DataArray`**, which holds a single n-dimensional variable. Elements of a DataArray include:\n",
    "   - `values`: numpy array of data values\n",
    "   - `dims`: list of named dimensions (for example, `['time','lat','lon']`)\n",
    "   - `coords`: coordinate arrays (e.g., vectors of lat/lon values or datetime data)\n",
    "   - `atts`: variable attributes such as `units` and `standard_name`   \n",
    "    \n",
    "**2.** a **`Dataset`**, which holds multiple n-dimensional variables (shared coordinates). Elements of a Dataset: data variables, dimensions, coordinates, and attributes.\n",
    "\n",
    "\n",
    "In the cell below, we will load the ERA5 data (netcdf file) into an xarray dataset.\n"
   ]
  },
  {
   "cell_type": "code",
   "execution_count": null,
   "metadata": {},
   "outputs": [],
   "source": [
    "# Path to ERA5 data\n",
    "filepath = \"../sample-data/era5.6hr.AR-thunderstorm.20190304_08.nc\"\n",
    "\n",
    "# Read nc file into xarray dataset\n",
    "ds = xr.open_dataset(filepath)\n",
    "\n",
    "# Print dataset contents \n",
    "print(ds)\n"
   ]
  },
  {
   "cell_type": "markdown",
   "metadata": {},
   "source": [
    "### Selecting/Indexing data with xarray\n",
    "\n",
    "We can always use regular numpy indexing and slicing on DataArrays and Datasets; however, \n",
    "it is often more powerful and easier to use xarray’s `.sel()` method of label-based indexing.\n"
   ]
  },
  {
   "cell_type": "code",
   "execution_count": null,
   "metadata": {
    "scrolled": true
   },
   "outputs": [],
   "source": [
    "# Select a single day \n",
    "ds.sel(time='2019-03-06')\n"
   ]
  },
  {
   "cell_type": "code",
   "execution_count": null,
   "metadata": {},
   "outputs": [],
   "source": [
    "# Select range of lats (30-40 N)\n",
    "# because ERA5 data latitudes are listed from 90N to 90S\n",
    "# you have to slice from latmax to latmin\n",
    "\n",
    "latmin=30\n",
    "latmax=40\n",
    "ds.sel(latitude=slice(latmax,latmin))\n"
   ]
  },
  {
   "cell_type": "code",
   "execution_count": null,
   "metadata": {},
   "outputs": [],
   "source": [
    "# Select the date/time of the AR event (06 March 2019 at 06 UTC)\n",
    "\n"
   ]
  },
  {
   "cell_type": "code",
   "execution_count": null,
   "metadata": {},
   "outputs": [],
   "source": [
    "# Subset data to a single pressure level: 250-hPa\n",
    "\n"
   ]
  },
  {
   "cell_type": "markdown",
   "metadata": {},
   "source": [
    "In the following code block, we select the data and coordinate variables needed to create a map of 250-hPa heights and winds at the time of the AR-Thunderstorm event."
   ]
  },
  {
   "cell_type": "code",
   "execution_count": null,
   "metadata": {},
   "outputs": [],
   "source": [
    "# coordinate arrays\n",
    "lats = dsAR['latitude'].values     # .values extracts var as numpy array\n",
    "lons = dsAR['longitude'].values   \n",
    "print(lats.shape, lons.shape)\n",
    "\n",
    "# data variables\n",
    "uwnd = dsAR['u'].values\n",
    "#vwnd = \n",
    "#hgts = \n",
    "\n",
    "# check shape of new arrays and print some values...\n",
    "\n"
   ]
  },
  {
   "cell_type": "markdown",
   "metadata": {},
   "source": [
    "### Do some calculations with our data...\n",
    "\n",
    "Calculate the magnitude of the wind (wind speed) from u and v components. Then, convert wind speed from m/s to knots. "
   ]
  },
  {
   "cell_type": "code",
   "execution_count": null,
   "metadata": {},
   "outputs": [],
   "source": [
    "# Define a function to compute wind speed from u and v\n",
    "\n",
    "def calc_wspd(u, v):\n",
    "    \"\"\"Computes wind speed from u and v components\"\"\"        \n",
    "    \n",
    "    wspd = np.sqrt(u**2 + v**2) \n",
    "    \n",
    "    return wspd\n"
   ]
  },
  {
   "cell_type": "code",
   "execution_count": null,
   "metadata": {},
   "outputs": [],
   "source": [
    "# Calculate wind speed using function\n",
    "\n",
    "wspd = calc_wspd(uwnd, vwnd)\n",
    "print(wspd.shape)\n"
   ]
  },
  {
   "cell_type": "code",
   "execution_count": null,
   "metadata": {},
   "outputs": [],
   "source": [
    "# Define a function to convert wind from m/s to knots\n",
    "\n",
    "# Hint: 1 m/s = 1.9438445 knots\n",
    "\n",
    "\n"
   ]
  },
  {
   "cell_type": "code",
   "execution_count": null,
   "metadata": {},
   "outputs": [],
   "source": [
    "# Convert wspd to knots\n",
    "\n"
   ]
  },
  {
   "cell_type": "markdown",
   "metadata": {},
   "source": [
    "### Plotting with Cartopy"
   ]
  },
  {
   "cell_type": "code",
   "execution_count": null,
   "metadata": {},
   "outputs": [],
   "source": [
    "# Projection/Coordinate systems\n",
    "datacrs = ccrs.PlateCarree()     # data/source\n",
    "mapcrs = ccrs.PlateCarree()      # map/destination\n",
    "\n",
    "# Map extent\n",
    "lonmin = lons.min()\n",
    "lonmax = lons.max()\n",
    "latmin = lats.min()\n",
    "latmax = lats.max()\n",
    "\n",
    "# Tickmark Locations\n",
    "# dx = np.arange(lonmin,lonmax+1,10)\n",
    "# dy = np.arange(latmin,latmax+1,10)\n",
    "# print(dx)\n",
    "# print(dy)\n"
   ]
  },
  {
   "cell_type": "code",
   "execution_count": null,
   "metadata": {},
   "outputs": [],
   "source": [
    "# Check range of data values (helps set up contour levels)\n",
    "\n",
    "print(hgts.min(), hgts.max())\n",
    "print(wspd_knots.min(), wspd_knots.max())\n"
   ]
  },
  {
   "cell_type": "markdown",
   "metadata": {},
   "source": [
    "Create a basemap plot."
   ]
  },
  {
   "cell_type": "code",
   "execution_count": null,
   "metadata": {},
   "outputs": [],
   "source": [
    "# Create figure\n",
    "fig = plt.figure(figsize=(10,7)) \n",
    "\n",
    "# Add plot axes and draw basemap\n",
    "ax = fig.add_subplot(111, projection=mapcrs)\n",
    "ax.set_extent([lonmin,lonmax,latmin,latmax], crs=mapcrs)\n",
    "\n",
    "# xticks\n",
    "ax.set_xticks(dx, crs=mapcrs)      \n",
    "lon_formatter = LongitudeFormatter()\n",
    "ax.xaxis.set_major_formatter(lon_formatter)\n",
    "# yticks\n",
    "ax.set_yticks(dy, crs=mapcrs)\n",
    "lat_formatter = LatitudeFormatter()\n",
    "ax.yaxis.set_major_formatter(lat_formatter)\n",
    "# tick params\n",
    "ax.tick_params(direction='out', labelsize=8.5, length=5, pad=2, color='black')    \n",
    "\n",
    "# Map features\n",
    "ax.add_feature(cfeature.LAND, facecolor='0.9') \n",
    "ax.add_feature(cfeature.BORDERS, edgecolor='0.1', linewidth=0.7)\n",
    "ax.add_feature(cfeature.COASTLINE, edgecolor='k', linewidth=1.0)\n",
    "ax.add_feature(cfeature.STATES, edgecolor='0.1', linewidth=0.7)\n",
    "\n",
    "# show basemap\n",
    "plt.show()\n",
    "\n",
    "# Geopotenital height lines\n",
    "# clevs_hgts = np.arange(840,1280,12)\n",
    "# cs = ax.contour(lons, lats, hgts/10., transform=datacrs,\n",
    "#                 levels=clevs_hgts,\n",
    "#                 colors='blue',         # line color\n",
    "#                 linewidths=1.1)     # line thickness\n",
    "#                 \n",
    "# # Add labels to contour lines\n",
    "# plt.clabel(cs, fmt='%d',fontsize=8.5, inline_spacing=5)\n",
    "\n",
    "# # Show\n",
    "# plt.show()  \n"
   ]
  },
  {
   "cell_type": "markdown",
   "metadata": {},
   "source": [
    "Make the draw a basemap a function."
   ]
  },
  {
   "cell_type": "code",
   "execution_count": null,
   "metadata": {},
   "outputs": [],
   "source": [
    "def draw_basemap():\n",
    "\n",
    "    # Create figure\n",
    "    fig = plt.figure(figsize=(10,7)) \n",
    "\n",
    "    # Add plot axes and draw basemap\n",
    "    ax = fig.add_subplot(111, projection=mapcrs)\n",
    "    ax.set_extent([lonmin,lonmax,latmin,latmax], crs=mapcrs)\n",
    "\n",
    "    # xticks\n",
    "    ax.set_xticks(dx, crs=mapcrs)      \n",
    "    lon_formatter = LongitudeFormatter()\n",
    "    ax.xaxis.set_major_formatter(lon_formatter)\n",
    "    # yticks\n",
    "    ax.set_yticks(dy, crs=mapcrs)\n",
    "    lat_formatter = LatitudeFormatter()\n",
    "    ax.yaxis.set_major_formatter(lat_formatter)\n",
    "    # tick params\n",
    "    ax.tick_params(direction='out', labelsize=8.5, length=5, pad=2, color='black')    \n",
    "\n",
    "    # Map features\n",
    "    ax.add_feature(cfeature.LAND, facecolor='0.9') \n",
    "    ax.add_feature(cfeature.BORDERS, edgecolor='0.1', linewidth=0.7)\n",
    "    ax.add_feature(cfeature.COASTLINE, edgecolor='k', linewidth=1.0)\n",
    "    ax.add_feature(cfeature.STATES, edgecolor='0.1', linewidth=0.7)\n",
    "    \n",
    "    return fig, ax\n"
   ]
  },
  {
   "cell_type": "markdown",
   "metadata": {},
   "source": [
    "Using your basemap function, add contour lines and filled contours."
   ]
  },
  {
   "cell_type": "code",
   "execution_count": null,
   "metadata": {},
   "outputs": [],
   "source": [
    "# Draw basemap\n",
    "fig, ax = draw_basemap()\n",
    "\n",
    "# Geopotenital height lines\n",
    "clevs_hgts = np.arange(840,1280,12)\n",
    "cs = ax.contour(lons, lats, hgts/10., transform=datacrs,\n",
    "                levels=clevs_hgts,\n",
    "                colors='k',         # line color\n",
    "                linewidths=1.2)     # line thickness\n",
    "               \n",
    "# Add labels to contour lines\n",
    "plt.clabel(cs, fmt='%d',fontsize=8.5, inline_spacing=5)\n",
    "\n",
    "# Wind speed - contour fill\n",
    "clevs_wspd = np.arange(60,121,10)\n",
    "cf = ax.contourf(lons, lats, wspd_knots, transform=datacrs,\n",
    "                 levels=clevs_wspd, \n",
    "                 cmap='BuPu', \n",
    "                 extend='max',\n",
    "                 alpha=0.9)   # transparency (0=transparent, 1=opaque)\n",
    "\n",
    "# show\n",
    "plt.show()\n"
   ]
  },
  {
   "cell_type": "markdown",
   "metadata": {},
   "source": [
    "Add wind vectors using quiver. "
   ]
  },
  {
   "cell_type": "code",
   "execution_count": null,
   "metadata": {},
   "outputs": [],
   "source": [
    "# Draw basemap\n",
    "fig, ax = draw_basemap()\n",
    "\n",
    "# Geopotenital height lines\n",
    "clevs_hgts = np.arange(840,1280,12)\n",
    "cs = ax.contour(lons, lats, hgts/10., transform=datacrs,\n",
    "                levels=clevs_hgts,\n",
    "                colors='k',         # line color\n",
    "                linewidths=1.2)     # line thickness\n",
    "               \n",
    "# Add labels to contour lines\n",
    "plt.clabel(cs, fmt='%d',fontsize=8.5, inline_spacing=5)\n",
    "\n",
    "# Wind speed - contour fill\n",
    "clevs_wspd = np.arange(70,131,10)\n",
    "cf = ax.contourf(lons, lats, wspd_knots, transform=datacrs,\n",
    "                 levels=clevs_wspd, \n",
    "                 cmap='BuPu', \n",
    "                 extend='max',\n",
    "                 alpha=0.8)   # transparency (0=transparent, 1=opaque)\n",
    "\n",
    "# Wind vectors \n",
    "ax.quiver(lons, lats, uwnd, vwnd, transform=datacrs, \n",
    "          color='k', \n",
    "          regrid_shape=18, \n",
    "          pivot='middle')\n",
    "\n",
    "# Plot title\n",
    "titlestring = f\"{plev}-hPa Hgts/Wind\"\n",
    "ax.set_title(titlestring, loc='left',fontsize=12)\n",
    "\n",
    "# show\n",
    "plt.show()\n"
   ]
  },
  {
   "cell_type": "markdown",
   "metadata": {},
   "source": [
    "Plot wind barbs instead of vectors"
   ]
  },
  {
   "cell_type": "code",
   "execution_count": null,
   "metadata": {},
   "outputs": [],
   "source": [
    "# Draw basemap\n",
    "fig, ax = draw_basemap()\n",
    "\n",
    "# Geopotenital height lines\n",
    "clevs_hgts = np.arange(840,1280,12)\n",
    "cs = ax.contour(lons, lats, hgts/10., transform=datacrs,\n",
    "                levels=clevs_hgts,\n",
    "                colors='b',         # line color\n",
    "                linewidths=1.2)     # line thickness\n",
    "               \n",
    "# Add labels to contour lines\n",
    "plt.clabel(cs, fmt='%d',fontsize=8.5, inline_spacing=5)\n",
    "\n",
    "# Wind speed - contour fill\n",
    "clevs_wspd = np.arange(70,131,10)\n",
    "cf = ax.contourf(lons, lats, wspd_knots, transform=datacrs,\n",
    "                 levels=clevs_wspd, \n",
    "                 cmap='BuPu', \n",
    "                 extend='max',\n",
    "                 alpha=0.8)   # transparency (0=transparent, 1=opaque)\n",
    "\n",
    "# Wind barbs\n",
    "ax.barbs(lons, lats, uwnd, vwnd, transform=datacrs, \n",
    "          color='k', regrid_shape=12, pivot='middle')\n",
    "\n",
    "# Plot title\n",
    "titlestring = f\"{plev}-hPa Hgts/Wind\"\n",
    "ax.set_title(titlestring, loc='left',fontsize=12)\n",
    "\n",
    "# show\n",
    "plt.show()\n"
   ]
  }
 ],
 "metadata": {
  "kernelspec": {
   "display_name": "Python (pyclivac)",
   "language": "python",
   "name": "pyclivac"
  },
  "language_info": {
   "codemirror_mode": {
    "name": "ipython",
    "version": 3
   },
   "file_extension": ".py",
   "mimetype": "text/x-python",
   "name": "python",
   "nbconvert_exporter": "python",
   "pygments_lexer": "ipython3",
   "version": "3.7.7"
  }
 },
 "nbformat": 4,
 "nbformat_minor": 4
}
