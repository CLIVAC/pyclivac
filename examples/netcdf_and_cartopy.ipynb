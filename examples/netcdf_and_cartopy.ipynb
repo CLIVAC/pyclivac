{
 "cells": [
  {
   "cell_type": "markdown",
   "metadata": {},
   "source": [
    "## NetCDF basics in Python\n",
    "\n",
    "1. Read data from a NetCDF file\n",
    "2. Create a simple contour plot"
   ]
  },
  {
   "cell_type": "code",
   "execution_count": 1,
   "metadata": {},
   "outputs": [],
   "source": [
    "import os, sys\n",
    "import numpy as np\n",
    "import pandas as pd\n",
    "import netCDF4 as nc\n",
    "import matplotlib.pyplot as plt\n",
    "import cartopy.crs as ccrs\n",
    "import cartopy.feature as cfeature\n"
   ]
  },
  {
   "cell_type": "markdown",
   "metadata": {},
   "source": [
    "### Reading data from a NetCDF file\n",
    "\n",
    "For this example, we will read monthly 2-meter temperature data from a netCDF file of ERA-Interim reanalysis (0.75 deg, 2000-2005)."
   ]
  },
  {
   "cell_type": "code",
   "execution_count": 2,
   "metadata": {},
   "outputs": [
    {
     "name": "stdout",
     "output_type": "stream",
     "text": [
      "../sample-data/erai.mon.t2m.2000-2005.nc\n",
      "<class 'netCDF4._netCDF4.Dataset'>\n",
      "root group (NETCDF3_64BIT_OFFSET data model, file format NETCDF3):\n",
      "    Conventions: CF-1.6\n",
      "    history: Thu May  2 00:07:54 2019: ncpdq -U era.t2m.mon.2000.nc out2000.nc\n",
      "2019-05-02 05:57:01 GMT by grib_to_netcdf-2.12.0: grib_to_netcdf /data/data02/scratch/d8/a7/_mars-atls18-70e05f9f8ba4e9d19932f1c45a7be8d8-4AHW9i.grib -o /data/data02/scratch/f6/3a/_grib2netcdf-atls02-a82bacafb5c306db76464bc7e824bb75-ZBvnn_.nc -utime\n",
      "    NCO: 4.6.7\n",
      "    nco_openmp_thread_number: 1\n",
      "    dimensions(sizes): longitude(480), latitude(241), time(72)\n",
      "    variables(dimensions): float32 longitude(longitude), float32 latitude(latitude), int32 time(time), float64 t2m(time,latitude,longitude)\n",
      "    groups: \n"
     ]
    }
   ],
   "source": [
    "# Path to data file\n",
    "datdir = '../sample-data/'\n",
    "filename = 'erai.mon.t2m.2000-2005.nc'\n",
    "filepath = datdir + filename\n",
    "print(filepath)\n",
    "\n",
    "# Open netCDF file object\n",
    "f = nc.Dataset(filepath,'r')\n",
    "\n",
    "# List file contents (variables, dimensions, global attributes)\n",
    "print(f)"
   ]
  },
  {
   "cell_type": "code",
   "execution_count": 3,
   "metadata": {},
   "outputs": [],
   "source": [
    "# Read data into numpy arrays\n",
    "lons = f.variables['longitude'][:] # [:] syntax stores data in numpy arrays\n",
    "lats = f.variables['latitude'][:]\n",
    "t2m  = f.variables['t2m'][:]\n"
   ]
  },
  {
   "cell_type": "code",
   "execution_count": 31,
   "metadata": {},
   "outputs": [
    {
     "name": "stdout",
     "output_type": "stream",
     "text": [
      "units: K\n",
      "-32767\n",
      "[]\n"
     ]
    }
   ],
   "source": [
    "# Retrieve attributes\n",
    "t2m_units    = f.variables['t2m'].units\n",
    "t2m_longname = f.variables['t2m'].long_name\n",
    "t2m_missing  = f.variables['t2m'].missing_value\n",
    "print('units:', t2m_units)\n",
    "print(t2m_missing)\n",
    "\n",
    "\n",
    "idx = (t2m == t2m_missing)\n",
    "tmp = t2m[idx]\n",
    "print(tmp)"
   ]
  },
  {
   "cell_type": "code",
   "execution_count": 6,
   "metadata": {},
   "outputs": [
    {
     "name": "stdout",
     "output_type": "stream",
     "text": [
      "(72, 241, 480)\n",
      "(241,)\n"
     ]
    }
   ],
   "source": [
    "# Print array size/shape\n",
    "print(t2m.shape)\n",
    "\n",
    "# Print size of lat/lon arrays...\n",
    "print(lats.shape)\n"
   ]
  },
  {
   "cell_type": "code",
   "execution_count": 8,
   "metadata": {},
   "outputs": [
    {
     "name": "stdout",
     "output_type": "stream",
     "text": [
      "(241, 480)\n"
     ]
    }
   ],
   "source": [
    "# Print data values\n",
    "print(t2m[0,:,:].shape)\n"
   ]
  },
  {
   "cell_type": "code",
   "execution_count": 11,
   "metadata": {},
   "outputs": [
    {
     "data": {
      "text/plain": [
       "15.0"
      ]
     },
     "execution_count": 11,
     "metadata": {},
     "output_type": "execute_result"
    }
   ],
   "source": [
    "#t2m[:,10,20].shape\n",
    "lons[20]"
   ]
  },
  {
   "cell_type": "markdown",
   "metadata": {},
   "source": [
    "### Time coordinate handling\n",
    "\n",
    "Need to convert times from netcdf to a datetime array. \n"
   ]
  },
  {
   "cell_type": "code",
   "execution_count": null,
   "metadata": {},
   "outputs": [],
   "source": [
    "# Read time from netcdf file\n",
    "time = f.variables['time'][:]\n",
    "print(time)\n"
   ]
  },
  {
   "cell_type": "code",
   "execution_count": null,
   "metadata": {},
   "outputs": [],
   "source": [
    "time_units = f.variables['time'].units\n",
    "print(time_units)\n"
   ]
  },
  {
   "cell_type": "markdown",
   "metadata": {},
   "source": [
    "**Option 1:** Read in times from netcdf file and convert it to a datetime object using the `num2date()` function. You will also need to retrieve in time.units attribute."
   ]
  },
  {
   "cell_type": "code",
   "execution_count": 24,
   "metadata": {},
   "outputs": [
    {
     "ename": "NameError",
     "evalue": "name 'time' is not defined",
     "output_type": "error",
     "traceback": [
      "\u001b[0;31m---------------------------------------------------------------------------\u001b[0m",
      "\u001b[0;31mNameError\u001b[0m                                 Traceback (most recent call last)",
      "\u001b[0;32m<ipython-input-24-d441d28fbe2e>\u001b[0m in \u001b[0;36m<module>\u001b[0;34m\u001b[0m\n\u001b[1;32m      1\u001b[0m \u001b[0;31m# convert times to a datetime object\u001b[0m\u001b[0;34m\u001b[0m\u001b[0;34m\u001b[0m\u001b[0;34m\u001b[0m\u001b[0m\n\u001b[0;32m----> 2\u001b[0;31m \u001b[0mdates\u001b[0m \u001b[0;34m=\u001b[0m \u001b[0mnc\u001b[0m\u001b[0;34m.\u001b[0m\u001b[0mnum2date\u001b[0m\u001b[0;34m(\u001b[0m\u001b[0mtime\u001b[0m\u001b[0;34m,\u001b[0m \u001b[0mtime_units\u001b[0m\u001b[0;34m)\u001b[0m\u001b[0;34m\u001b[0m\u001b[0;34m\u001b[0m\u001b[0m\n\u001b[0m\u001b[1;32m      3\u001b[0m \u001b[0mprint\u001b[0m\u001b[0;34m(\u001b[0m\u001b[0mdates\u001b[0m\u001b[0;34m)\u001b[0m\u001b[0;34m\u001b[0m\u001b[0;34m\u001b[0m\u001b[0m\n",
      "\u001b[0;31mNameError\u001b[0m: name 'time' is not defined"
     ]
    }
   ],
   "source": [
    "# convert times to a datetime object\n",
    "dates = nc.num2date(time, time_units)\n",
    "print(dates)"
   ]
  },
  {
   "cell_type": "markdown",
   "metadata": {},
   "source": [
    "**Option 2**: Create a pandas datetime object from scratch using `pd.date_range`"
   ]
  },
  {
   "cell_type": "code",
   "execution_count": 25,
   "metadata": {},
   "outputs": [
    {
     "name": "stdout",
     "output_type": "stream",
     "text": [
      "DatetimeIndex(['2000-01-31', '2000-02-29', '2000-03-31', '2000-04-30',\n",
      "               '2000-05-31', '2000-06-30', '2000-07-31', '2000-08-31',\n",
      "               '2000-09-30', '2000-10-31', '2000-11-30', '2000-12-31',\n",
      "               '2001-01-31', '2001-02-28', '2001-03-31', '2001-04-30',\n",
      "               '2001-05-31', '2001-06-30', '2001-07-31', '2001-08-31',\n",
      "               '2001-09-30', '2001-10-31', '2001-11-30', '2001-12-31',\n",
      "               '2002-01-31', '2002-02-28', '2002-03-31', '2002-04-30',\n",
      "               '2002-05-31', '2002-06-30', '2002-07-31', '2002-08-31',\n",
      "               '2002-09-30', '2002-10-31', '2002-11-30', '2002-12-31',\n",
      "               '2003-01-31', '2003-02-28', '2003-03-31', '2003-04-30',\n",
      "               '2003-05-31', '2003-06-30', '2003-07-31', '2003-08-31',\n",
      "               '2003-09-30', '2003-10-31', '2003-11-30', '2003-12-31',\n",
      "               '2004-01-31', '2004-02-29', '2004-03-31', '2004-04-30',\n",
      "               '2004-05-31', '2004-06-30', '2004-07-31', '2004-08-31',\n",
      "               '2004-09-30', '2004-10-31', '2004-11-30', '2004-12-31',\n",
      "               '2005-01-31', '2005-02-28', '2005-03-31', '2005-04-30',\n",
      "               '2005-05-31', '2005-06-30', '2005-07-31', '2005-08-31',\n",
      "               '2005-09-30', '2005-10-31', '2005-11-30', '2005-12-31'],\n",
      "              dtype='datetime64[ns]', freq='M')\n"
     ]
    }
   ],
   "source": [
    "dates_pd = pd.date_range(start='2000-01', end='2006-01', freq='M')\n",
    "print(dates_pd)"
   ]
  },
  {
   "cell_type": "markdown",
   "metadata": {},
   "source": [
    "### Simple arithmetic operations"
   ]
  },
  {
   "cell_type": "code",
   "execution_count": 13,
   "metadata": {
    "collapsed": true
   },
   "outputs": [
    {
     "name": "stdout",
     "output_type": "stream",
     "text": [
      "(72, 241, 480)\n",
      "[[[-27.54304121 -27.54304121 -27.54304121 ... -27.54304121 -27.54304121\n",
      "   -27.54304121]\n",
      "  [-27.3116225  -27.30982855 -27.30624067 ... -27.31521038 -27.31341644\n",
      "   -27.3116225 ]\n",
      "  [-26.977949   -26.97077323 -26.9653914  ... -27.01023999 -26.99768238\n",
      "   -26.98871266]\n",
      "  ...\n",
      "  [-25.9141405  -25.92490416 -25.93387388 ... -25.87467374 -25.88723135\n",
      "   -25.9015829 ]\n",
      "  [-26.62992396 -26.63709974 -26.64248157 ... -26.61557241 -26.62095424\n",
      "   -26.62633608]\n",
      "  [-27.86953893 -27.86953893 -27.86953893 ... -27.86953893 -27.86953893\n",
      "   -27.86953893]]\n",
      "\n",
      " [[-26.39671131 -26.39671131 -26.39671131 ... -26.39671131 -26.39671131\n",
      "   -26.39671131]\n",
      "  [-27.27753757 -27.27036179 -27.26139208 ... -27.30085883 -27.29368306\n",
      "   -27.28471334]\n",
      "  [-27.56815642 -27.55201093 -27.53945332 ... -27.62018078 -27.60224134\n",
      "   -27.58609585]\n",
      "  ...\n",
      "  [-39.14267994 -39.15164966 -39.16061938 ... -39.09783135 -39.11397684\n",
      "   -39.12653445]\n",
      "  [-39.66651144 -39.66830539 -39.67009933 ... -39.65754173 -39.66112961\n",
      "   -39.66292356]\n",
      "  [-40.28900984 -40.28900984 -40.28900984 ... -40.28900984 -40.28900984\n",
      "   -40.28900984]]\n",
      "\n",
      " [[-23.2752496  -23.2752496  -23.2752496  ... -23.2752496  -23.2752496\n",
      "   -23.2752496 ]\n",
      "  [-23.54434113 -23.54075324 -23.53537141 ... -23.56228056 -23.55689873\n",
      "   -23.5515169 ]\n",
      "  [-23.49231676 -23.4815531  -23.47078944 ... -23.5389593  -23.5228138\n",
      "   -23.50846226]\n",
      "  ...\n",
      "  [-51.94605477 -51.96220026 -51.98013969 ... -51.87250308 -51.89761829\n",
      "   -51.92093956]\n",
      "  [-51.98731547 -51.9926973  -51.99449124 ... -51.97834575 -51.98193364\n",
      "   -51.98372758]\n",
      "  [-52.50576514 -52.50576514 -52.50576514 ... -52.50576514 -52.50576514\n",
      "   -52.50576514]]\n",
      "\n",
      " ...\n",
      "\n",
      " [[-12.49169457 -12.49169457 -12.49169457 ... -12.49169457 -12.49169457\n",
      "   -12.49169457]\n",
      "  [-13.29487281 -13.29132677 -13.28600771 ... -13.30373791 -13.30019187\n",
      "   -13.29841885]\n",
      "  [-13.65834199 -13.65124991 -13.64061179 ... -13.68848334 -13.67784521\n",
      "   -13.66898011]\n",
      "  ...\n",
      "  [-43.84578715 -43.86529037 -43.8847936  ... -43.77841238 -43.79968862\n",
      "   -43.82273788]\n",
      "  [-44.41138065 -44.41847274 -44.42911086 ... -44.39187743 -44.39719649\n",
      "   -44.40428857]\n",
      "  [-45.67909023 -45.67909023 -45.67909023 ... -45.67909023 -45.67909023\n",
      "   -45.67909023]]\n",
      "\n",
      " [[-22.35323398 -22.35323398 -22.35323398 ... -22.35323398 -22.35323398\n",
      "   -22.35323398]\n",
      "  [-22.26280994 -22.26103692 -22.2592639  ... -22.26458296 -22.26458296\n",
      "   -22.26458296]\n",
      "  [-22.15288268 -22.14933664 -22.1457906  ... -22.15642872 -22.15642872\n",
      "   -22.1546557 ]\n",
      "  ...\n",
      "  [-34.18282602 -34.18814509 -34.19169113 ... -34.15268468 -34.1633228\n",
      "   -34.1721879 ]\n",
      "  [-34.82643243 -34.83175149 -34.83529753 ... -34.82111337 -34.82288639\n",
      "   -34.82465941]\n",
      "  [-35.92038601 -35.92038601 -35.92038601 ... -35.92038601 -35.92038601\n",
      "   -35.92038601]]\n",
      "\n",
      " [[-23.16705034 -23.16705034 -23.16705034 ... -23.16705034 -23.16705034\n",
      "   -23.16705034]\n",
      "  [-22.4330199  -22.42592782 -22.41706272 ... -22.45252312 -22.44720406\n",
      "   -22.44011198]\n",
      "  [-21.34793142 -21.33374726 -21.3195631  ... -21.38693787 -21.37275371\n",
      "   -21.35856954]\n",
      "  ...\n",
      "  [-20.78233792 -20.78943    -20.79297604 ... -20.76283469 -20.7716998\n",
      "   -20.77701886]\n",
      "  [-21.20254375 -21.20786281 -21.21140885 ... -21.19722469 -21.19899771\n",
      "   -21.20077073]\n",
      "  [-22.18125101 -22.18125101 -22.18125101 ... -22.18125101 -22.18125101\n",
      "   -22.18125101]]]\n"
     ]
    }
   ],
   "source": [
    "# Convert temperature to C\n",
    "t2m_degC = t2m - 273.15\n",
    "print(t2m_degC)\n"
   ]
  },
  {
   "cell_type": "code",
   "execution_count": 20,
   "metadata": {},
   "outputs": [
    {
     "name": "stdout",
     "output_type": "stream",
     "text": [
      "[ -6.77814509  -3.72126535   0.0944525   13.82709006  13.28890701\n",
      "  20.34448683  25.15404938  23.61843374  15.01826855   8.55469009\n",
      "  -0.85813151  -2.96601513  -3.48930135  -5.94030188  -0.02938784\n",
      "  15.20666022  17.51326922  20.34992308  28.97137686  22.39699288\n",
      "  16.94849729   6.07892221   0.55000602 -10.33784646  -6.26580737\n",
      "  -0.88767546   4.78994316  10.99978215  16.26064516  21.2093925\n",
      "  28.71821001  21.75063355  18.20730881   6.03299344   0.20382732\n",
      " -14.35375281  -7.49663695  -9.01149119  -3.09299089   8.04471071\n",
      "  20.16002174  16.93479137  23.68470004  22.92903438  16.73926948\n",
      "   8.99765972   0.45106345  -3.20748569  -6.27648002  -6.44470169\n",
      "   2.52831346   9.19275471  17.4678289   21.08280509  23.47906901\n",
      "  25.15233769  18.98361347   8.03846776   1.04474155  -4.69269095\n",
      "  -5.07869632  -6.66023051  -4.58225061  10.33771597  21.62121773\n",
      "  21.81270393  24.05025566  24.18145917  19.60883959  11.49017922\n",
      "   2.52401511  -4.00956503]\n",
      "(19,)\n"
     ]
    }
   ],
   "source": [
    "t2m_1d = t2m_degC[:,50,60]\n",
    "print(t2m_1d)\n",
    "\n",
    "idx = (t2m_1d > 20.0)\n",
    "t2m_20 = t2m_1d[idx]\n",
    "\n",
    "print(t2m_20.shape)"
   ]
  },
  {
   "cell_type": "code",
   "execution_count": 27,
   "metadata": {},
   "outputs": [
    {
     "data": {
      "text/plain": [
       "DatetimeIndex(['2000-06-30', '2000-07-31', '2000-08-31', '2001-06-30',\n",
       "               '2001-07-31', '2001-08-31', '2002-06-30', '2002-07-31',\n",
       "               '2002-08-31', '2003-05-31', '2003-07-31', '2003-08-31',\n",
       "               '2004-06-30', '2004-07-31', '2004-08-31', '2005-05-31',\n",
       "               '2005-06-30', '2005-07-31', '2005-08-31'],\n",
       "              dtype='datetime64[ns]', freq=None)"
      ]
     },
     "execution_count": 27,
     "metadata": {},
     "output_type": "execute_result"
    }
   ],
   "source": [
    "dates_20 = dates_pd[idx]\n",
    "dates_20"
   ]
  },
  {
   "cell_type": "code",
   "execution_count": 29,
   "metadata": {},
   "outputs": [
    {
     "name": "stdout",
     "output_type": "stream",
     "text": [
      "(241, 480)\n"
     ]
    }
   ],
   "source": [
    "# Average over the time dimension\n",
    "t2m_mean = np.mean(t2m_degC, axis=0)\n",
    "print(t2m_mean.shape)\n"
   ]
  },
  {
   "cell_type": "code",
   "execution_count": null,
   "metadata": {},
   "outputs": [],
   "source": [
    "# Find min and max values of t2m_mean\n",
    "tmax = t2m_mean.max()\n",
    "tmin = t2m_mean.min()\n",
    "print(tmin, tmax)\n"
   ]
  },
  {
   "cell_type": "markdown",
   "metadata": {},
   "source": [
    "## Plotting\n",
    "\n",
    "Create a filled contour plot of 2-meter temperature. We will use the cartopy and matplotlib packages. \n"
   ]
  },
  {
   "cell_type": "markdown",
   "metadata": {},
   "source": [
    "#### Map projection\n",
    "\n",
    "When plotting with cartopy, you must specify the source coordinates of your data (**data coordinates**, `datacrs`) and the projection or coordinate system that you want to plot your data in (**map coordinates**, `mapcrs`). \n",
    "\n",
    "Always use \"PlateCarree\" if your data are in lat/lon coordinates. See link below for all available projections.\n",
    "\n",
    "[Cartopy projection list](https://scitools.org.uk/cartopy/docs/latest/crs/projections.html#cartopy-projections)\n"
   ]
  },
  {
   "cell_type": "code",
   "execution_count": null,
   "metadata": {},
   "outputs": [],
   "source": [
    "# Set your data coordinates\n",
    "datacrs = ccrs.PlateCarree()\n",
    "# Set the map projection\n",
    "mapcrs = ccrs.PlateCarree()\n"
   ]
  },
  {
   "cell_type": "code",
   "execution_count": null,
   "metadata": {},
   "outputs": [],
   "source": [
    "# Set up contour levels \n",
    "clevs = np.arange(-55, 41, 5)  # (start,stop,step)\n",
    "print(clevs)\n"
   ]
  },
  {
   "cell_type": "code",
   "execution_count": null,
   "metadata": {},
   "outputs": [],
   "source": [
    "# Create figure\n",
    "fig = plt.figure(figsize=(7, 5))\n",
    "\n",
    "# Add plot axes (an individual plot)\n",
    "ax = fig.add_subplot(1, 1, 1, projection=mapcrs)\n",
    "\n",
    "# Set up extent of the map [x0, x1, y0, y1]\n",
    "ax.set_extent([lons.min(), lons.max(), lats.min(), lats.max()], crs=mapcrs)\n",
    "\n",
    "# Add map features\n",
    "ax.add_feature(cfeature.COASTLINE, edgecolor='0.9') #Grayscale colors can be set using 0 (black) to 1 (white)\n",
    "ax.add_feature(cfeature.BORDERS, edgecolor='0.9')  \n",
    "\n",
    "# Draw contour plot on the plot axes (ax)\n",
    "p = ax.contourf(lons, lats, t2m_mean, transform=datacrs,\n",
    "                levels=clevs,  # contour levels\n",
    "                cmap='YlOrRd') # colormap\n",
    "\n",
    "# Add colorbar\n",
    "cbar = plt.colorbar(p, orientation='horizontal', label='deg C')\n",
    "\n",
    "# Add plot title\n",
    "plt.title('Average 2m Temperature (2000-2005)')\n",
    "\n",
    "# Save to fig as png file\n",
    "filename = 't2m-map.png'\n",
    "plt.savefig(filename)\n",
    "\n",
    "# Show figure\n",
    "plt.show()"
   ]
  },
  {
   "cell_type": "markdown",
   "metadata": {},
   "source": [
    "## Challenge Time!\n",
    "\n",
    "1. Change the colormap of the plot. \n",
    "\n",
    "[Hint](https://matplotlib.org/tutorials/colors/colormaps.html)\n",
    "\n",
    "2. Change the extent of the plot. \n",
    "\n",
    "[Hint](https://scitools.org.uk/cartopy/docs/v0.15/matplotlib/geoaxes.html#cartopy.mpl.geoaxes.GeoAxes.set_extent)"
   ]
  },
  {
   "cell_type": "code",
   "execution_count": null,
   "metadata": {},
   "outputs": [],
   "source": []
  }
 ],
 "metadata": {
  "kernelspec": {
   "display_name": "Python (pyclivac)",
   "language": "python",
   "name": "pyclivac"
  },
  "language_info": {
   "codemirror_mode": {
    "name": "ipython",
    "version": 3
   },
   "file_extension": ".py",
   "mimetype": "text/x-python",
   "name": "python",
   "nbconvert_exporter": "python",
   "pygments_lexer": "ipython3",
   "version": "3.8.8"
  }
 },
 "nbformat": 4,
 "nbformat_minor": 2
}
