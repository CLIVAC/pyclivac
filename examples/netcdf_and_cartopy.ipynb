{
 "cells": [
  {
   "cell_type": "markdown",
   "metadata": {},
   "source": [
    "## NetCDF basics in Python\n",
    "\n",
    "1. Read data from a NetCDF file\n",
    "2. Create a simple contour plot"
   ]
  },
  {
   "cell_type": "code",
   "execution_count": null,
   "metadata": {},
   "outputs": [],
   "source": [
    "import os, sys\n",
    "import numpy as np\n",
    "import pandas as pd\n",
    "import netCDF4 as nc\n",
    "import matplotlib.pyplot as plt\n",
    "import cartopy.crs as ccrs\n",
    "import cartopy.feature as cfeature\n"
   ]
  },
  {
   "cell_type": "markdown",
   "metadata": {},
   "source": [
    "### Reading data from a NetCDF file\n",
    "\n",
    "For this example, we will read monthly 2-meter temperature data from a netCDF file of ERA-Interim reanalysis (0.75 deg, 2000-2005)."
   ]
  },
  {
   "cell_type": "code",
   "execution_count": null,
   "metadata": {},
   "outputs": [],
   "source": [
    "# Path to data file\n",
    "datdir = '../sample-data/'\n",
    "filename = 'erai.mon.t2m.2000-2005.nc'\n",
    "filepath = datdir + filename\n",
    "print(filepath)\n",
    "\n",
    "# Open netCDF file object\n",
    "f = nc.Dataset(filepath,'r')\n",
    "\n",
    "# List file contents (variables, dimensions, global attributes)\n",
    "print(f)"
   ]
  },
  {
   "cell_type": "code",
   "execution_count": null,
   "metadata": {},
   "outputs": [],
   "source": [
    "# Read data into numpy arrays\n",
    "lons = f.variables['longitude'][:] # [:] syntax stores data in numpy arrays\n",
    "lats = f.variables['latitude'][:]\n",
    "t2m  = f.variables['t2m'][:]\n"
   ]
  },
  {
   "cell_type": "code",
   "execution_count": null,
   "metadata": {},
   "outputs": [],
   "source": [
    "# Retrieve attributes\n",
    "t2m_units    = f.variables['t2m'].units\n",
    "t2m_longname = f.variables['t2m'].long_name\n",
    "t2m_missing  = f.variables['t2m'].missing_value\n",
    "print('units:', t2m_units)\n"
   ]
  },
  {
   "cell_type": "code",
   "execution_count": null,
   "metadata": {},
   "outputs": [],
   "source": [
    "# Print array size/shape\n",
    "print(t2m.shape)\n",
    "\n",
    "# Print size of lat/lon arrays...\n",
    "\n"
   ]
  },
  {
   "cell_type": "code",
   "execution_count": null,
   "metadata": {},
   "outputs": [],
   "source": [
    "# Print data values\n",
    "print(t2m)\n"
   ]
  },
  {
   "cell_type": "markdown",
   "metadata": {},
   "source": [
    "### Time coordinate handling\n",
    "\n",
    "Need to convert times from netcdf to a datetime array. \n"
   ]
  },
  {
   "cell_type": "code",
   "execution_count": null,
   "metadata": {},
   "outputs": [],
   "source": [
    "# Read time from netcdf file\n",
    "time = f.variables['time'][:]\n",
    "print(time)\n"
   ]
  },
  {
   "cell_type": "code",
   "execution_count": null,
   "metadata": {},
   "outputs": [],
   "source": [
    "time_units = f.variables['time'].units\n",
    "print(time_units)\n"
   ]
  },
  {
   "cell_type": "markdown",
   "metadata": {},
   "source": [
    "**Option 1:** Read in times from netcdf file and convert it to a datetime object using the `num2date()` function. You will also need to retrieve in time.units attribute."
   ]
  },
  {
   "cell_type": "code",
   "execution_count": null,
   "metadata": {},
   "outputs": [],
   "source": [
    "# convert times to a datetime object\n",
    "dates = nc.num2date(time, time_units)\n",
    "print(dates)"
   ]
  },
  {
   "cell_type": "markdown",
   "metadata": {},
   "source": [
    "**Option 2**: Create a pandas datetime object from scratch using `pd.date_range`"
   ]
  },
  {
   "cell_type": "code",
   "execution_count": null,
   "metadata": {},
   "outputs": [],
   "source": [
    "dates_pd = pd.date_range(start='2000-01', end='2005-12', freq='M')\n",
    "print(dates_pd)"
   ]
  },
  {
   "cell_type": "markdown",
   "metadata": {},
   "source": [
    "### Simple arithmetic operations"
   ]
  },
  {
   "cell_type": "code",
   "execution_count": null,
   "metadata": {},
   "outputs": [],
   "source": [
    "# Convert temperature to C\n",
    "t2m_degC = t2m - 273.15\n",
    "print(t2m_degC)\n"
   ]
  },
  {
   "cell_type": "code",
   "execution_count": null,
   "metadata": {},
   "outputs": [],
   "source": [
    "# Average over the time dimension\n",
    "t2m_mean = np.mean(t2m_degC, axis=0)\n",
    "print(t2m_mean.shape)\n"
   ]
  },
  {
   "cell_type": "code",
   "execution_count": null,
   "metadata": {},
   "outputs": [],
   "source": [
    "# Find min and max values of t2m_mean\n",
    "tmax = t2m_mean.max()\n",
    "tmin = t2m_mean.min()\n",
    "print(tmin, tmax)\n"
   ]
  },
  {
   "cell_type": "markdown",
   "metadata": {},
   "source": [
    "## Plotting\n",
    "\n",
    "Create a filled contour plot of 2-meter temperature. We will use the cartopy and matplotlib packages. \n"
   ]
  },
  {
   "cell_type": "markdown",
   "metadata": {},
   "source": [
    "#### Map projection\n",
    "\n",
    "When plotting with cartopy, you must specify the source coordinates of your data (**data coordinates**, `datacrs`) and the projection or coordinate system that you want to plot your data in (**map coordinates**, `mapcrs`). \n",
    "\n",
    "Always use \"PlateCarree\" if your data are in lat/lon coordinates. See link below for all available projections.\n",
    "\n",
    "[Cartopy projection list](https://scitools.org.uk/cartopy/docs/latest/crs/projections.html#cartopy-projections)\n"
   ]
  },
  {
   "cell_type": "code",
   "execution_count": null,
   "metadata": {},
   "outputs": [],
   "source": [
    "# Set your data coordinates\n",
    "datacrs = ccrs.PlateCarree()\n",
    "# Set the map projection\n",
    "mapcrs = ccrs.PlateCarree()\n"
   ]
  },
  {
   "cell_type": "code",
   "execution_count": null,
   "metadata": {},
   "outputs": [],
   "source": [
    "# Set up contour levels \n",
    "clevs = np.arange(-55, 41, 5)  # (start,stop,step)\n",
    "print(clevs)\n"
   ]
  },
  {
   "cell_type": "code",
   "execution_count": null,
   "metadata": {},
   "outputs": [],
   "source": [
    "# Create figure\n",
    "fig = plt.figure(figsize=(7, 5))\n",
    "\n",
    "# Add plot axes (an individual plot)\n",
    "ax = fig.add_subplot(1, 1, 1, projection=mapcrs)\n",
    "\n",
    "# Set up extent of the map [x0, x1, y0, y1]\n",
    "ax.set_extent([lons.min(), lons.max(), lats.min(), lats.max()], crs=mapcrs)\n",
    "\n",
    "# Add map features\n",
    "ax.add_feature(cfeature.COASTLINE, edgecolor='0.9') #Grayscale colors can be set using 0 (black) to 1 (white)\n",
    "ax.add_feature(cfeature.BORDERS, edgecolor='0.9')  \n",
    "\n",
    "# Draw contour plot on the plot axes (ax)\n",
    "p = ax.contourf(lons, lats, t2m_mean, transform=datacrs,\n",
    "                levels=clevs,  # contour levels\n",
    "                cmap='YlOrRd') # colormap\n",
    "\n",
    "# Add colorbar\n",
    "cbar = plt.colorbar(p, orientation='horizontal', label='deg C')\n",
    "\n",
    "# Add plot title\n",
    "plt.title('Average 2m Temperature (2000-2005)')\n",
    "\n",
    "# Save to fig as png file\n",
    "filename = 't2m-map.png'\n",
    "plt.savefig(filename)\n",
    "\n",
    "# Show figure\n",
    "plt.show()"
   ]
  },
  {
   "cell_type": "markdown",
   "metadata": {},
   "source": [
    "## Challenge Time!\n",
    "\n",
    "1. Change the colormap of the plot. \n",
    "\n",
    "[Hint](https://matplotlib.org/tutorials/colors/colormaps.html)\n",
    "\n",
    "2. Change the extent of the plot. \n",
    "\n",
    "[Hint](https://scitools.org.uk/cartopy/docs/v0.15/matplotlib/geoaxes.html#cartopy.mpl.geoaxes.GeoAxes.set_extent)"
   ]
  },
  {
   "cell_type": "code",
   "execution_count": null,
   "metadata": {},
   "outputs": [],
   "source": []
  }
 ],
 "metadata": {
  "kernelspec": {
   "display_name": "Python 3",
   "language": "python",
   "name": "python3"
  },
  "language_info": {
   "codemirror_mode": {
    "name": "ipython",
    "version": 3
   },
   "file_extension": ".py",
   "mimetype": "text/x-python",
   "name": "python",
   "nbconvert_exporter": "python",
   "pygments_lexer": "ipython3",
   "version": "3.6.8"
  }
 },
 "nbformat": 4,
 "nbformat_minor": 2
}
