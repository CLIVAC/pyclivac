{
 "cells": [
  {
   "cell_type": "markdown",
   "metadata": {},
   "source": [
    "# Import and map netcdf data"
   ]
  },
  {
   "cell_type": "code",
   "execution_count": 2,
   "metadata": {},
   "outputs": [],
   "source": [
    "import os, sys\n",
    "import numpy as np\n",
    "import pandas as pd\n",
    "import matplotlib.pyplot as plt\n",
    "import seaborn as sns\n",
    "import cartopy.crs as ccrs\n",
    "import cartopy.feature as cfeature\n",
    "import netCDF4 as nc"
   ]
  },
  {
   "cell_type": "markdown",
   "metadata": {},
   "source": [
    "### Import data from netcdf file\n",
    "\n",
    "For this example, we will read 500-hPa geopotential height data from a netCDF file of daily ERA5 reanalysis (0.75 deg, 1979-2017)."
   ]
  },
  {
   "cell_type": "code",
   "execution_count": 4,
   "metadata": {
    "collapsed": true
   },
   "outputs": [
    {
     "name": "stdout",
     "output_type": "stream",
     "text": [
      "/Users/tessamontini/Google_Drive/DATA/era5_katelyn/era5_zg_500_day_1979-2017.nc\n",
      "<class 'netCDF4._netCDF4.Dataset'>\n",
      "root group (NETCDF3_64BIT_OFFSET data model, file format NETCDF3):\n",
      "    CDI: Climate Data Interface version 1.8.2 (http://mpimet.mpg.de/cdi)\n",
      "    Conventions: CF-1.6\n",
      "    history: Thu Jul 25 13:15:08 2019: cdo daymean concat.nc era5_zg_500_day_1979-2017.nc\n",
      "Thu Jul 25 13:14:07 2019: cdo divc,9.80665 concat.nc tmp2.nc\n",
      "Thu Jul 25 13:14:07 2019: ncrename -O -v z,zg concat.nc\n",
      "    institution: European Centre for Medium-Range Weather Forecasts\n",
      "    NCO: 4.6.7\n",
      "    nco_openmp_thread_number: 1\n",
      "    title: ERA5 Reanalysis\n",
      "    frequency: day\n",
      "    CDO: Climate Data Operators version 1.8.2 (http://mpimet.mpg.de/cdo)\n",
      "    dimensions(sizes): longitude(94), latitude(54), time(14245), bnds(2)\n",
      "    variables(dimensions): float32 \u001b[4mlongitude\u001b[0m(longitude), float32 \u001b[4mlatitude\u001b[0m(latitude), float64 \u001b[4mtime\u001b[0m(time), float64 \u001b[4mtime_bnds\u001b[0m(time,bnds), float64 \u001b[4mzg\u001b[0m(time,latitude,longitude)\n",
      "    groups: \n",
      "\n"
     ]
    }
   ],
   "source": [
    "# Set path to data file\n",
    "datadir = \"/Users/tessamontini/Google_Drive/DATA/\"\n",
    "fname = \"era5_zg_500_day_1979-2017.nc\"\n",
    "filepath = datadir + fname\n",
    "print(filepath)\n",
    "\n",
    "# Open netCDF file object\n",
    "f = nc.Dataset(filepath, 'r')\n",
    "\n",
    "# Print info about file contents and metadata\n",
    "print(f)"
   ]
  },
  {
   "cell_type": "code",
   "execution_count": 14,
   "metadata": {
    "collapsed": true
   },
   "outputs": [
    {
     "name": "stdout",
     "output_type": "stream",
     "text": [
      "(14245, 54, 94)\n",
      "[5304.69414551 5370.48821694 5458.78595418 ... 5323.82683105 5282.56357029\n",
      " 5226.99012305]\n",
      "[-160.   -159.25 -158.5  -157.75 -157.   -156.25 -155.5  -154.75 -154.\n",
      " -153.25 -152.5  -151.75 -151.   -150.25 -149.5  -148.75 -148.   -147.25\n",
      " -146.5  -145.75 -145.   -144.25 -143.5  -142.75 -142.   -141.25 -140.5\n",
      " -139.75 -139.   -138.25 -137.5  -136.75 -136.   -135.25 -134.5  -133.75\n",
      " -133.   -132.25 -131.5  -130.75 -130.   -129.25 -128.5  -127.75 -127.\n",
      " -126.25 -125.5  -124.75 -124.   -123.25 -122.5  -121.75 -121.   -120.25\n",
      " -119.5  -118.75 -118.   -117.25 -116.5  -115.75 -115.   -114.25 -113.5\n",
      " -112.75 -112.   -111.25 -110.5  -109.75 -109.   -108.25 -107.5  -106.75\n",
      " -106.   -105.25 -104.5  -103.75 -103.   -102.25 -101.5  -100.75 -100.\n",
      "  -99.25  -98.5   -97.75  -97.    -96.25  -95.5   -94.75  -94.    -93.25\n",
      "  -92.5   -91.75  -91.    -90.25]\n"
     ]
    }
   ],
   "source": [
    "# Retrieve data variables\n",
    "geop500 = f.variables['zg'][:] # [:] syntax stores data in np arrays\n",
    "\n",
    "# Inspect your data\n",
    "print(geop500.shape)  # print dim sizes\n",
    "print(geop500[:,0,0])        # print some values\n",
    "\n",
    "# Retrieve coordinate variables\n",
    "lons = f.variables['longitude'][:]\n",
    "lats = f.variables['latitude'][:]\n",
    "time = f.variables['time']\n",
    "\n",
    "print(lons)"
   ]
  },
  {
   "cell_type": "markdown",
   "metadata": {},
   "source": [
    "### Time coordinate handling\n",
    "\n",
    "Two options for making a datetime array:  \n",
    "\n",
    "1) Method 1: Read in times from netcdf file and convert it to a datetime object (you will also need to read in the time.units attribute)."
   ]
  },
  {
   "cell_type": "code",
   "execution_count": 8,
   "metadata": {},
   "outputs": [
    {
     "name": "stdout",
     "output_type": "stream",
     "text": [
      "hours since 1900-01-01 00:00:00.0\n",
      "[datetime.datetime(1979, 1, 1, 9, 0) datetime.datetime(1979, 1, 2, 9, 0)\n",
      " datetime.datetime(1979, 1, 3, 9, 0) ...\n",
      " datetime.datetime(2017, 12, 29, 9, 0)\n",
      " datetime.datetime(2017, 12, 30, 9, 0)\n",
      " datetime.datetime(2017, 12, 31, 9, 0)]\n"
     ]
    }
   ],
   "source": [
    "# Read in times and time units att from nc file\n",
    "times = f.variables['time']\n",
    "time_units = f.variables['time'].units    \n",
    "print(time_units)\n",
    "\n",
    "# Convert to datetime object\n",
    "dates_nc = nc.num2date(times[:], time_units)  \n",
    "print(dates_nc)"
   ]
  },
  {
   "cell_type": "markdown",
   "metadata": {},
   "source": [
    "2) Method 2: Create a pandas datetime object from scratch (this is what I usually do)"
   ]
  },
  {
   "cell_type": "code",
   "execution_count": 9,
   "metadata": {
    "collapsed": true
   },
   "outputs": [
    {
     "name": "stdout",
     "output_type": "stream",
     "text": [
      "DatetimeIndex(['1979-01-01', '1979-01-02', '1979-01-03', '1979-01-04',\n",
      "               '1979-01-05', '1979-01-06', '1979-01-07', '1979-01-08',\n",
      "               '1979-01-09', '1979-01-10',\n",
      "               ...\n",
      "               '2018-11-22', '2018-11-23', '2018-11-24', '2018-11-25',\n",
      "               '2018-11-26', '2018-11-27', '2018-11-28', '2018-11-29',\n",
      "               '2018-11-30', '2018-12-01'],\n",
      "              dtype='datetime64[ns]', length=14580, freq='D')\n"
     ]
    }
   ],
   "source": [
    "dates_pd = pd.date_range(start='1979-01-01', end='2018-12-01', \n",
    "                         freq='D')   # D = daily\n",
    "print(dates_pd)"
   ]
  },
  {
   "cell_type": "markdown",
   "metadata": {},
   "source": [
    "## Plotting\n",
    "\n",
    "Create a filled contour plot of 500-hpa geopotential heights using cartopy.\n",
    "\n",
    "When plotting with cartopy, you must specify the source coordinates of your data (`datacrs` = _data coordinates_) and the coordinate or projection that you want to plot your data in (`mapcrs` = _map coordinates_). Always use \"PlateCarree\" if your data are in lat/lon coordinates. See link below for all available projections.\n",
    "\n",
    "**Plotting resources:**\n",
    "* [Cartopy projection list](https://scitools.org.uk/cartopy/docs/latest/crs/projections.html#cartopy-projections)\n",
    "* [Matplotlib colormaps](https://matplotlib.org/tutorials/colors/colormaps.html)"
   ]
  },
  {
   "cell_type": "code",
   "execution_count": 21,
   "metadata": {},
   "outputs": [
    {
     "name": "stdout",
     "output_type": "stream",
     "text": [
      "5100.448818105825 5877.307312721831\n"
     ]
    },
    {
     "data": {
      "image/png": "[encoded data removed]",
      "text/plain": [
       "<Figure size 432x288 with 2 Axes>"
      ]
     },
     "metadata": {
      "needs_background": "light"
     },
     "output_type": "display_data"
    }
   ],
   "source": [
    "# Data for plotting\n",
    "data = geop500[0,:,:]   # plot first time step\n",
    "print(data.min(), data.max())\n",
    "\n",
    "# Set your data coordinates (input for transform keyword)\n",
    "datacrs = ccrs.PlateCarree()\n",
    "# Set the map projection coordinates (input for projection keyword)\n",
    "mapcrs = ccrs.PlateCarree()\n",
    "\n",
    "# Create the figure and plot axes (the individual plot)\n",
    "fig = plt.figure()\n",
    "ax = fig.add_subplot(1, 1, 1, projection=mapcrs)\n",
    "\n",
    "# Add data to plot axes (filled contour plot)\n",
    "clevs = np.arange(5000,5960,60)  # contour levels (start,stop,step)\n",
    "cf = ax.contourf(lons, lats, data, transform=datacrs,\n",
    "                 levels=clevs, cmap='YlOrRd')\n",
    "\n",
    "# Add colorbar\n",
    "plt.colorbar(cf)\n",
    "\n",
    "# Add title\n",
    "ax.set_title(\"500-hPa Geopotential Height (1979-01-01)\")\n",
    "\n",
    "# Add plot features\n",
    "ax.coastlines()\n",
    "ax.gridlines()\n",
    "\n",
    "# Option to save figure to png file\n",
    "plt.savefig('geop500.png')\n",
    "\n",
    "# Display figure\n",
    "plt.show()"
   ]
  }
 ],
 "metadata": {
  "kernelspec": {
   "display_name": "Python 3",
   "language": "python",
   "name": "python3"
  },
  "language_info": {
   "codemirror_mode": {
    "name": "ipython",
    "version": 3
   },
   "file_extension": ".py",
   "mimetype": "text/x-python",
   "name": "python",
   "nbconvert_exporter": "python",
   "pygments_lexer": "ipython3",
   "version": "3.6.8"
  }
 },
 "nbformat": 4,
 "nbformat_minor": 2
}
