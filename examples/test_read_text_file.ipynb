{
 "cells": [
  {
   "cell_type": "markdown",
   "metadata": {},
   "source": [
    "## Import Libraries"
   ]
  },
  {
   "cell_type": "code",
   "execution_count": null,
   "metadata": {},
   "outputs": [],
   "source": [
    "from os import path\n",
    "import sys\n",
    "import pandas as pd\n",
    "import seaborn as sns\n",
    "import matplotlib.pyplot as plt\n",
    "%matplotlib inline\n",
    "\n",
    "\n",
    "import sys\n",
    "sys.path.append('../modules')\n",
    "from plotter import simple_contour_plot"
   ]
  },
  {
   "cell_type": "markdown",
   "metadata": {},
   "source": [
    "## Read txt file into Pandas Dataframe"
   ]
  },
  {
   "cell_type": "code",
   "execution_count": null,
   "metadata": {},
   "outputs": [],
   "source": [
    "## location and name of txt file\n",
    "filename = '../sample-data/MPWC1.txt'\n",
    "## reads file into a pandas dataframe - sets the header as line 6 (using 0 index)\n",
    "## skips row 7 as that is unit information\n",
    "## creates a single datetime column from 2 columns (extremely useful IMO)\n",
    "df = pd.read_csv(filename, header=6, delim_whitespace=True, skiprows=[7], parse_dates=[['Date_', 'ime']])\n",
    "df"
   ]
  },
  {
   "cell_type": "code",
   "execution_count": null,
   "metadata": {},
   "outputs": [],
   "source": [
    "# Converting the index as date (need to do this to utilize functionality of resample)\n",
    "df.index = pd.to_datetime(df.Date__ime)\n",
    "## resamples data to daily\n",
    "df_daily = df.resample('D', label='right').mean()\n",
    "df_daily"
   ]
  },
  {
   "cell_type": "code",
   "execution_count": null,
   "metadata": {
    "scrolled": false
   },
   "outputs": [],
   "source": [
    "simple_line_plot(df_daily,1,'dew_point_temperature_set_1d','Time','$^{\\circ}$C')"
   ]
  },
  {
   "cell_type": "code",
   "execution_count": null,
   "metadata": {},
   "outputs": [],
   "source": [
    "x=df_daily.index\n",
    "## Use .iloc to get values from dataframe using indexing [row, column]\n",
    "y=df_daily.iloc[:,0]\n",
    "plt.plot(x, y, 'b')\n",
    "plt.ylabel('$^{\\circ}$C')\n",
    "plt.title('Daily Average Air Temperature')\n",
    "plt.show()"
   ]
  },
  {
   "cell_type": "code",
   "execution_count": null,
   "metadata": {},
   "outputs": [],
   "source": [
    "## Plot daily air temperature\n",
    "sns.lineplot(x=df_daily.index, y=df_daily.air_temp_set_1, data=df_daily)"
   ]
  },
  {
   "cell_type": "code",
   "execution_count": null,
   "metadata": {},
   "outputs": [],
   "source": []
  }
 ],
 "metadata": {
  "kernelspec": {
   "display_name": "Python 3",
   "language": "python",
   "name": "python3"
  },
  "language_info": {
   "codemirror_mode": {
    "name": "ipython",
    "version": 3
   },
   "file_extension": ".py",
   "mimetype": "text/x-python",
   "name": "python",
   "nbconvert_exporter": "python",
   "pygments_lexer": "ipython3",
   "version": "3.7.3"
  }
 },
 "nbformat": 4,
 "nbformat_minor": 2
}
