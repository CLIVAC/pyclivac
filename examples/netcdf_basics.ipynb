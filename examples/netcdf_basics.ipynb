{
 "cells": [
  {
   "cell_type": "markdown",
   "metadata": {},
   "source": [
    "## NetCDF basics in Python\n",
    "\n",
    "1. Read data from a NetCDF file\n",
    "2. Create a simple contour plot"
   ]
  },
  {
   "cell_type": "code",
   "execution_count": null,
   "metadata": {},
   "outputs": [],
   "source": [
    "# core scientific libraries\n",
    "import os\n",
    "import sys\n",
    "import numpy as np\n",
    "import pandas as pd\n",
    "import xarray as xr\n",
    "\n",
    "# plotting\n",
    "import matplotlib.pyplot as plt\n",
    "import seaborn as sns\n",
    "import cartopy.crs as ccrs\n",
    "import cartopy.feature as cfeature\n",
    "# secondary libraries\n",
    "import netCDF4 as nc\n",
    "\n",
    "\n",
    "sys.path.append('../modules')\n",
    "from plotter import simple_contour_plot\n",
    "from function_example import date_range"
   ]
  },
  {
   "cell_type": "code",
   "execution_count": null,
   "metadata": {},
   "outputs": [],
   "source": [
    "## test date_range function\n",
    "\n",
    "test_list_dates = date_range('1997-01-01', '1997-01-31', '%Y-%M-%d', 1, 'days')\n",
    "test_list_dates"
   ]
  },
  {
   "cell_type": "markdown",
   "metadata": {},
   "source": [
    "### Reading data from a NetCDF file"
   ]
  },
  {
   "cell_type": "code",
   "execution_count": null,
   "metadata": {},
   "outputs": [],
   "source": [
    "# Set filepath\n",
    "datdir = '../sample-data/'\n",
    "filename = 'erai.mon.t2m.2000-2005.nc'\n",
    "filepath = datdir + filename\n",
    "print(filepath, '\\n')\n",
    "\n",
    "# Open NetCDF Dataset object\n",
    "f = nc.Dataset(filepath,'r')\n",
    "\n",
    "# List variable names\n",
    "print(\"Variables:\")\n",
    "print(f.variables.keys(),'\\n')\n",
    "\n",
    "# Show dimension names and sizes\n",
    "print(\"Dimensions:\")\n",
    "print(f.dimensions.items(),'\\n')\n",
    "\n",
    "# Print all file metadata\n",
    "#print(f)   # or run 'ncdump -h <filename>' in terminal"
   ]
  },
  {
   "cell_type": "code",
   "execution_count": null,
   "metadata": {},
   "outputs": [],
   "source": [
    "# Read the variables\n",
    "lons = f.variables['longitude'][:] # [:] syntax stores data in np arrays\n",
    "lats = f.variables['latitude'][:]\n",
    "t2m  = f.variables['t2m'][:]\n",
    "time = f.variables['time']\n",
    "\n",
    "# Inspect your data\n",
    "print(lats.shape, lons.shape) # print array sizes\n",
    "print(t2m.shape)  \n",
    "print(lats[0:10])  # print some values\n",
    "\n",
    "# Retrieve attributes\n",
    "t2m_units    = f.variables['t2m'].units\n",
    "t2m_longname = f.variables['t2m'].long_name\n",
    "t2m_missing  = f.variables['t2m'].missing_value\n",
    "print(t2m_longname)"
   ]
  },
  {
   "cell_type": "markdown",
   "metadata": {},
   "source": [
    "### Time coordinate handling\n",
    "\n",
    "**`num2date(`**`times, units, calendar='standard')`: <br>\n",
    "converts numeric time values to datetime objects, given the specified `units` and `calendar`. Units are generally written in the format `\"hours since YY:MM:DD hh-mm-ss\"` or \"\\{time unit\\} since \\{some reference time\\}\"\n",
    "\n",
    "**`date2num(`**`dates, units, calendar='standard')`: <br>\n",
    "converts datetime objects to numeric values of time (the reverse of num2date)\n"
   ]
  },
  {
   "cell_type": "code",
   "execution_count": null,
   "metadata": {},
   "outputs": [],
   "source": [
    "# convert times to a datetime object\n",
    "time_units = f.variables['time'].units\n",
    "dates = nc.num2date(time[:], time_units)"
   ]
  },
  {
   "cell_type": "markdown",
   "metadata": {},
   "source": [
    "### Simple arithmetic operations"
   ]
  },
  {
   "cell_type": "code",
   "execution_count": null,
   "metadata": {},
   "outputs": [],
   "source": [
    "# Long-term time average\n",
    "t2m_mean = np.mean(t2m, axis=0)\n",
    "print(t2m_mean.shape)\n"
   ]
  },
  {
   "cell_type": "markdown",
   "metadata": {},
   "source": [
    "### Contour plot\n",
    "Using Cartopy with Matplotlib\n",
    "\n",
    "Plotting resources:\n",
    "* [Cartopy projection list](https://scitools.org.uk/cartopy/docs/latest/crs/projections.html#cartopy-projections)\n",
    "* [Matplotlib colormaps](https://matplotlib.org/tutorials/colors/colormaps.html)"
   ]
  },
  {
   "cell_type": "code",
   "execution_count": null,
   "metadata": {},
   "outputs": [],
   "source": [
    "# mapcrs - what want in\n",
    "# datacrs - what comes in"
   ]
  },
  {
   "cell_type": "code",
   "execution_count": null,
   "metadata": {},
   "outputs": [],
   "source": [
    "simple_contour_plot(t2m_mean, lons, lats, sequential = True)"
   ]
  },
  {
   "cell_type": "code",
   "execution_count": null,
   "metadata": {},
   "outputs": [],
   "source": [
    "# Data for plotting\n",
    "data = t2m_mean\n",
    "\n",
    "# Set map projection\n",
    "proj = ccrs.PlateCarree()\n",
    "\n",
    "# Set up figure and axes\n",
    "fig = plt.figure(figsize=(7, 5))\n",
    "ax = fig.add_subplot(1, 1, 1, projection=proj)\n",
    "\n",
    "# Add data\n",
    "p = ax.contourf(lons, lats, data, transform=proj,\n",
    "                cmap='YlOrRd', extend='both')\n",
    "\n",
    "# Add plot elements\n",
    "ax.coastlines()\n",
    "ax.gridlines()\n",
    "plt.title('Average 2m Temperature (2000-2005)')\n",
    "\n",
    "# Add colorbar\n",
    "cbar = plt.colorbar(p, orientation='horizontal',\n",
    "                    shrink=0.85, pad=0.05, \n",
    "                    label=t2m_units)\n",
    "\n",
    "# Save to file\n",
    "plt.savefig('plotfile.png')\n",
    "\n",
    "# Show plot\n",
    "plt.show()"
   ]
  }
 ],
 "metadata": {
  "kernelspec": {
   "display_name": "Python 3",
   "language": "python",
   "name": "python3"
  },
  "language_info": {
   "codemirror_mode": {
    "name": "ipython",
    "version": 3
   },
   "file_extension": ".py",
   "mimetype": "text/x-python",
   "name": "python",
   "nbconvert_exporter": "python",
   "pygments_lexer": "ipython3",
   "version": "3.7.3"
  }
 },
 "nbformat": 4,
 "nbformat_minor": 2
}
