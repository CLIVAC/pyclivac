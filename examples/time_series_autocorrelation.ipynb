{
 "cells": [
  {
   "cell_type": "code",
   "execution_count": 14,
   "metadata": {},
   "outputs": [],
   "source": [
    "import numpy as np\n",
    "import pandas as pd\n",
    "from scipy.stats import ttest_1samp, t, norm\n",
    "import scipy.stats.distributions as dist"
   ]
  },
  {
   "cell_type": "code",
   "execution_count": null,
   "metadata": {},
   "outputs": [],
   "source": [
    "i_max_temp = [33., 32., 30., 29., 25., 30., 37., 37., 29., 30.,\n",
    "                   36., 32., 33., 34., 53., 45., 25., 28., 32., 27.,\n",
    "                   26., 28., 24., 26., 9., 22., 17., 26., 27., 30., 34.]\n",
    "i_max_temp = np.asarray(i_max_temp)\n",
    "\n",
    "c_max_temp = [34., 36., 30., 29., 30., 35., 44., 38., 31., 33.,\n",
    "                   39., 33., 34., 39., 51., 44., 25., 34., 36., 29.,\n",
    "                   27., 29., 27., 24., 11., 21., 19., 26., 28., 31., 38.]\n",
    "c_max_temp = np.asarray(c_max_temp)\n",
    "\n"
   ]
  },
  {
   "cell_type": "code",
   "execution_count": null,
   "metadata": {},
   "outputs": [],
   "source": [
    "mean_i = np.mean(i_max_temp)\n",
    "mean_c = np.mean(c_max_temp)\n",
    "diff_mean = mean_i - mean_c\n",
    "\n",
    "diff_std = np.std(i_max_temp - c_max_temp)\n",
    "print('Mean of Ithaca: ', mean_i)\n",
    "print('Mean of Canada: ', mean_c)\n",
    "print('Difference of mean temp: ', diff_mean)\n",
    "\n",
    "print('Standard Deviations of the differences: ', diff_std)"
   ]
  },
  {
   "cell_type": "code",
   "execution_count": null,
   "metadata": {},
   "outputs": [],
   "source": [
    "def autocorr_diff(ts1, ts2):\n",
    "    '''Calculate autocorrelation of the difference between two paired samples'''\n",
    "    # put into pandas df\n",
    "    data = {'ts1':   ts1,\n",
    "            'ts2':   ts2,\n",
    "            'diff_ts':   ts1-ts2}\n",
    "\n",
    "    df = pd.DataFrame(data)\n",
    "    rho1 = df.diff_ts.autocorr(lag=1)\n",
    "    \n",
    "    return rho1\n",
    "    \n",
    "def n_prime(ts1, ts2):\n",
    "    '''\n",
    "    calculate the effective sample size/equivalent number of independent samples \n",
    "    from two paired samples of time series data that have high autocorrelation\n",
    "    \n",
    "    $n'  \\approx n \\frac{1-\\rho_1}{1+\\rho_1} $\n",
    "    '''\n",
    "    n = len(ts1)\n",
    "    rho1 = autocorr_diff(ts1, ts2)\n",
    "    nprime = n * ((1-rho1)/(1+rho1))\n",
    "    \n",
    "    return rho1, nprime"
   ]
  },
  {
   "cell_type": "code",
   "execution_count": null,
   "metadata": {},
   "outputs": [],
   "source": [
    "rho1, nprime = n_prime(i_max_temp, c_max_temp)\n",
    "print(rho1, nprime)"
   ]
  },
  {
   "cell_type": "markdown",
   "metadata": {},
   "source": [
    "### Test Difference of Proportion\n",
    "\n",
    "based on [this example](https://online.stat.psu.edu/stat415/lesson/9/9.4)"
   ]
  },
  {
   "cell_type": "code",
   "execution_count": 4,
   "metadata": {},
   "outputs": [],
   "source": [
    "## non-smoker data\n",
    "n1 = 605. # total number of participants\n",
    "y1 = 351. # number who answered \"yes\"\n",
    "\n",
    "\n",
    "## smoker data\n",
    "n2 = 195. # total number of participants\n",
    "y2 = 41. # number who answered \"yes\"\n"
   ]
  },
  {
   "cell_type": "code",
   "execution_count": 25,
   "metadata": {},
   "outputs": [],
   "source": [
    "# Null hypothesis is that p1 = p2 \n",
    "# proportion of sample 1 is equal to sample 2\n",
    "# two-tailed test will be required\n",
    "\n",
    "def test_diff_proportion(ts1, ts2, alpha):\n",
    "    '''\n",
    "    Calculate the test statistic for testing \n",
    "    the difference in two population proportions\n",
    "    \n",
    "    Y1 : the number sample 1 that answer 'yes'\n",
    "    Y2 : the number of sample 2 that answer 'yes'\n",
    "    n1 : the size of sample 1\n",
    "    n2 : the size of sample 2\n",
    "    alpha : significance level\n",
    "    \n",
    "    return \n",
    "    Z : the test statistic\n",
    "    p : the p-value at the significance level (alpha)\n",
    "    \n",
    "    '''\n",
    "    n1 = len(ts1)\n",
    "    n2 = len(ts2)\n",
    "    y1 = ts1.sum()\n",
    "    y2 = ts2.sum()\n",
    "    \n",
    "    p1 = y1/n1 # proportion of sample 1 who said yes\n",
    "    p2 = y2/n2 # proportion of sample 2 who said yes\n",
    "    phat = (Y1+Y2)/(n1 + n2)\n",
    "    print('phat: ', phat)\n",
    "    \n",
    "    std_err = np.sqrt(phat*(1-phat)*(1/n1 + 1/n2))\n",
    "    \n",
    "    Z = ((p1 - p2) - 0)/(std_err)\n",
    "    print('Z: value: ', Z)\n",
    "    \n",
    "    # Calculate the  p-value\n",
    "    # based on the standard normal distribution z-test\n",
    "    pvalue = 2*dist.norm.cdf(-np.abs(Z)) # Multiplied by two indicates a two tailed testing.\n",
    "    print(\"Computed P-value is\", pvalue)\n",
    "    if pvalue < alpha:\n",
    "        print('Reject null hypothesis, statistical significance found')\n",
    "\n"
   ]
  },
  {
   "cell_type": "code",
   "execution_count": 26,
   "metadata": {},
   "outputs": [
    {
     "name": "stdout",
     "output_type": "stream",
     "text": [
      "0.5801652892561984 0.21025641025641026\n",
      "phat:  0.49\n",
      "8.985900954503084\n",
      "Computed P-value is 2.566230446480293e-19\n",
      "Reject null hypothesis, statistical significance found\n",
      "Critical t-value:  1.6467653442385173\n"
     ]
    }
   ],
   "source": [
    "test_statistic(y1, y2, n1, n2, 0.05)"
   ]
  }
 ],
 "metadata": {
  "kernelspec": {
   "display_name": "Python (pyclivac)",
   "language": "python",
   "name": "pyclivac"
  },
  "language_info": {
   "codemirror_mode": {
    "name": "ipython",
    "version": 3
   },
   "file_extension": ".py",
   "mimetype": "text/x-python",
   "name": "python",
   "nbconvert_exporter": "python",
   "pygments_lexer": "ipython3",
   "version": "3.7.6"
  }
 },
 "nbformat": 4,
 "nbformat_minor": 4
}
